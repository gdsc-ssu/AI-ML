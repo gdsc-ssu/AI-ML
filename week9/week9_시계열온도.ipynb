{
  "nbformat": 4,
  "nbformat_minor": 0,
  "metadata": {
    "colab": {
      "name": "week9_시계열온도.ipynb",
      "provenance": []
    },
    "kernelspec": {
      "name": "python3",
      "display_name": "Python 3"
    },
    "language_info": {
      "name": "python"
    }
  },
  "cells": [
    {
      "cell_type": "markdown",
      "source": [
        "#이번 강의의 내용 : 가우시안분포와 이상치분석 & 추천 시스템"
      ],
      "metadata": {
        "id": "dxcLB_YZRqQi"
      }
    },
    {
      "cell_type": "code",
      "execution_count": null,
      "metadata": {
        "id": "USZCx9amRpcg"
      },
      "outputs": [],
      "source": [
        "# libraries\n",
        "#%matplotlib notebook\n",
        "\n",
        "import pandas as pd\n",
        "import numpy as np\n",
        "\n",
        "import matplotlib\n",
        "import seaborn\n",
        "import matplotlib.dates as md\n",
        "from matplotlib import pyplot as plt\n",
        "\n",
        "from sklearn import preprocessing\n",
        "from sklearn.decomposition import PCA\n",
        "from sklearn.cluster import KMeans\n",
        "from sklearn.covariance import EllipticEnvelope\n",
        "#from pyemma import msm # not available on Kaggle Kernel\n",
        "from sklearn.ensemble import IsolationForest\n",
        "from sklearn.svm import OneClassSVM"
      ]
    },
    {
      "cell_type": "code",
      "source": [
        "df = pd.read_csv(\"ambient_temperature_system_failure.csv\")\n",
        "df"
      ],
      "metadata": {
        "colab": {
          "base_uri": "https://localhost:8080/",
          "height": 423
        },
        "id": "mK94aoMUR7fx",
        "outputId": "cfbdbeff-6017-4324-e00f-cab0242e987d"
      },
      "execution_count": null,
      "outputs": [
        {
          "output_type": "execute_result",
          "data": {
            "text/html": [
              "\n",
              "  <div id=\"df-3ef055be-8819-452f-a1b7-8079a2ba85a0\">\n",
              "    <div class=\"colab-df-container\">\n",
              "      <div>\n",
              "<style scoped>\n",
              "    .dataframe tbody tr th:only-of-type {\n",
              "        vertical-align: middle;\n",
              "    }\n",
              "\n",
              "    .dataframe tbody tr th {\n",
              "        vertical-align: top;\n",
              "    }\n",
              "\n",
              "    .dataframe thead th {\n",
              "        text-align: right;\n",
              "    }\n",
              "</style>\n",
              "<table border=\"1\" class=\"dataframe\">\n",
              "  <thead>\n",
              "    <tr style=\"text-align: right;\">\n",
              "      <th></th>\n",
              "      <th>timestamp</th>\n",
              "      <th>value</th>\n",
              "    </tr>\n",
              "  </thead>\n",
              "  <tbody>\n",
              "    <tr>\n",
              "      <th>0</th>\n",
              "      <td>2013-07-04 00:00:00</td>\n",
              "      <td>69.880835</td>\n",
              "    </tr>\n",
              "    <tr>\n",
              "      <th>1</th>\n",
              "      <td>2013-07-04 01:00:00</td>\n",
              "      <td>71.220227</td>\n",
              "    </tr>\n",
              "    <tr>\n",
              "      <th>2</th>\n",
              "      <td>2013-07-04 02:00:00</td>\n",
              "      <td>70.877805</td>\n",
              "    </tr>\n",
              "    <tr>\n",
              "      <th>3</th>\n",
              "      <td>2013-07-04 03:00:00</td>\n",
              "      <td>68.959400</td>\n",
              "    </tr>\n",
              "    <tr>\n",
              "      <th>4</th>\n",
              "      <td>2013-07-04 04:00:00</td>\n",
              "      <td>69.283551</td>\n",
              "    </tr>\n",
              "    <tr>\n",
              "      <th>...</th>\n",
              "      <td>...</td>\n",
              "      <td>...</td>\n",
              "    </tr>\n",
              "    <tr>\n",
              "      <th>7262</th>\n",
              "      <td>2014-05-28 11:00:00</td>\n",
              "      <td>72.370206</td>\n",
              "    </tr>\n",
              "    <tr>\n",
              "      <th>7263</th>\n",
              "      <td>2014-05-28 12:00:00</td>\n",
              "      <td>72.172956</td>\n",
              "    </tr>\n",
              "    <tr>\n",
              "      <th>7264</th>\n",
              "      <td>2014-05-28 13:00:00</td>\n",
              "      <td>72.046565</td>\n",
              "    </tr>\n",
              "    <tr>\n",
              "      <th>7265</th>\n",
              "      <td>2014-05-28 14:00:00</td>\n",
              "      <td>71.825226</td>\n",
              "    </tr>\n",
              "    <tr>\n",
              "      <th>7266</th>\n",
              "      <td>2014-05-28 15:00:00</td>\n",
              "      <td>72.584089</td>\n",
              "    </tr>\n",
              "  </tbody>\n",
              "</table>\n",
              "<p>7267 rows × 2 columns</p>\n",
              "</div>\n",
              "      <button class=\"colab-df-convert\" onclick=\"convertToInteractive('df-3ef055be-8819-452f-a1b7-8079a2ba85a0')\"\n",
              "              title=\"Convert this dataframe to an interactive table.\"\n",
              "              style=\"display:none;\">\n",
              "        \n",
              "  <svg xmlns=\"http://www.w3.org/2000/svg\" height=\"24px\"viewBox=\"0 0 24 24\"\n",
              "       width=\"24px\">\n",
              "    <path d=\"M0 0h24v24H0V0z\" fill=\"none\"/>\n",
              "    <path d=\"M18.56 5.44l.94 2.06.94-2.06 2.06-.94-2.06-.94-.94-2.06-.94 2.06-2.06.94zm-11 1L8.5 8.5l.94-2.06 2.06-.94-2.06-.94L8.5 2.5l-.94 2.06-2.06.94zm10 10l.94 2.06.94-2.06 2.06-.94-2.06-.94-.94-2.06-.94 2.06-2.06.94z\"/><path d=\"M17.41 7.96l-1.37-1.37c-.4-.4-.92-.59-1.43-.59-.52 0-1.04.2-1.43.59L10.3 9.45l-7.72 7.72c-.78.78-.78 2.05 0 2.83L4 21.41c.39.39.9.59 1.41.59.51 0 1.02-.2 1.41-.59l7.78-7.78 2.81-2.81c.8-.78.8-2.07 0-2.86zM5.41 20L4 18.59l7.72-7.72 1.47 1.35L5.41 20z\"/>\n",
              "  </svg>\n",
              "      </button>\n",
              "      \n",
              "  <style>\n",
              "    .colab-df-container {\n",
              "      display:flex;\n",
              "      flex-wrap:wrap;\n",
              "      gap: 12px;\n",
              "    }\n",
              "\n",
              "    .colab-df-convert {\n",
              "      background-color: #E8F0FE;\n",
              "      border: none;\n",
              "      border-radius: 50%;\n",
              "      cursor: pointer;\n",
              "      display: none;\n",
              "      fill: #1967D2;\n",
              "      height: 32px;\n",
              "      padding: 0 0 0 0;\n",
              "      width: 32px;\n",
              "    }\n",
              "\n",
              "    .colab-df-convert:hover {\n",
              "      background-color: #E2EBFA;\n",
              "      box-shadow: 0px 1px 2px rgba(60, 64, 67, 0.3), 0px 1px 3px 1px rgba(60, 64, 67, 0.15);\n",
              "      fill: #174EA6;\n",
              "    }\n",
              "\n",
              "    [theme=dark] .colab-df-convert {\n",
              "      background-color: #3B4455;\n",
              "      fill: #D2E3FC;\n",
              "    }\n",
              "\n",
              "    [theme=dark] .colab-df-convert:hover {\n",
              "      background-color: #434B5C;\n",
              "      box-shadow: 0px 1px 3px 1px rgba(0, 0, 0, 0.15);\n",
              "      filter: drop-shadow(0px 1px 2px rgba(0, 0, 0, 0.3));\n",
              "      fill: #FFFFFF;\n",
              "    }\n",
              "  </style>\n",
              "\n",
              "      <script>\n",
              "        const buttonEl =\n",
              "          document.querySelector('#df-3ef055be-8819-452f-a1b7-8079a2ba85a0 button.colab-df-convert');\n",
              "        buttonEl.style.display =\n",
              "          google.colab.kernel.accessAllowed ? 'block' : 'none';\n",
              "\n",
              "        async function convertToInteractive(key) {\n",
              "          const element = document.querySelector('#df-3ef055be-8819-452f-a1b7-8079a2ba85a0');\n",
              "          const dataTable =\n",
              "            await google.colab.kernel.invokeFunction('convertToInteractive',\n",
              "                                                     [key], {});\n",
              "          if (!dataTable) return;\n",
              "\n",
              "          const docLinkHtml = 'Like what you see? Visit the ' +\n",
              "            '<a target=\"_blank\" href=https://colab.research.google.com/notebooks/data_table.ipynb>data table notebook</a>'\n",
              "            + ' to learn more about interactive tables.';\n",
              "          element.innerHTML = '';\n",
              "          dataTable['output_type'] = 'display_data';\n",
              "          await google.colab.output.renderOutput(dataTable, element);\n",
              "          const docLink = document.createElement('div');\n",
              "          docLink.innerHTML = docLinkHtml;\n",
              "          element.appendChild(docLink);\n",
              "        }\n",
              "      </script>\n",
              "    </div>\n",
              "  </div>\n",
              "  "
            ],
            "text/plain": [
              "                timestamp      value\n",
              "0     2013-07-04 00:00:00  69.880835\n",
              "1     2013-07-04 01:00:00  71.220227\n",
              "2     2013-07-04 02:00:00  70.877805\n",
              "3     2013-07-04 03:00:00  68.959400\n",
              "4     2013-07-04 04:00:00  69.283551\n",
              "...                   ...        ...\n",
              "7262  2014-05-28 11:00:00  72.370206\n",
              "7263  2014-05-28 12:00:00  72.172956\n",
              "7264  2014-05-28 13:00:00  72.046565\n",
              "7265  2014-05-28 14:00:00  71.825226\n",
              "7266  2014-05-28 15:00:00  72.584089\n",
              "\n",
              "[7267 rows x 2 columns]"
            ]
          },
          "metadata": {},
          "execution_count": 4
        }
      ]
    },
    {
      "cell_type": "code",
      "source": [
        "# change the type of timestamp column for plotting\n",
        "df['timestamp'] = pd.to_datetime(df['timestamp'])\n",
        "# change fahrenheit to °C (temperature mean= 71 -> fahrenheit)\n",
        "df['value'] = (df['value'] - 32) * 5/9\n",
        "# plot the data\n",
        "df.plot(x='timestamp', y='value')\n"
      ],
      "metadata": {
        "colab": {
          "base_uri": "https://localhost:8080/",
          "height": 293
        },
        "id": "l9zyGVBmqd5R",
        "outputId": "ee307a7a-a27d-462c-8d2c-bc581d2cbe50"
      },
      "execution_count": null,
      "outputs": [
        {
          "output_type": "execute_result",
          "data": {
            "text/plain": [
              "<matplotlib.axes._subplots.AxesSubplot at 0x7f805d124610>"
            ]
          },
          "metadata": {},
          "execution_count": 89
        },
        {
          "output_type": "display_data",
          "data": {
            "image/png": "[encoded data removed]",
            "text/plain": [
              "<Figure size 432x288 with 1 Axes>"
            ]
          },
          "metadata": {
            "needs_background": "light"
          }
        }
      ]
    },
    {
      "cell_type": "code",
      "source": [
        ""
      ],
      "metadata": {
        "id": "kcPIf9w9qgRb"
      },
      "execution_count": null,
      "outputs": []
    },
    {
      "cell_type": "markdown",
      "source": [
        "#중간에 엄청 높은 값이 있다. 아마 저게 이상치일 것이다."
      ],
      "metadata": {
        "id": "YTap9BWtqoFQ"
      }
    },
    {
      "cell_type": "markdown",
      "source": [
        "아하 시계열 데이터구나!"
      ],
      "metadata": {
        "id": "fPFq4WoESaf0"
      }
    },
    {
      "cell_type": "code",
      "source": [
        "#시계열 데이터를 나누어준다.\n",
        "# change the type of timestamp column for plotting\n",
        "df['timestamp'] = pd.to_datetime(df['timestamp'])\n",
        "# 섭씨를 화씨로 바꾸어주는 작업이다. °C: 5/9(x − 32)\n",
        "df['value'] = (df['value'] - 32) * 5/9\n",
        "df['hours'] = df['timestamp'].dt.hour\n",
        "#낮 시간은 오전 7시부터 오후 10시까지\n",
        "df['daylight'] = ((df['hours'] >= 7) & (df['hours'] <= 22)).astype(int)\n",
        "#낮이면 1 밤이면 0\n",
        "print(df['daylight'])"
      ],
      "metadata": {
        "colab": {
          "base_uri": "https://localhost:8080/"
        },
        "id": "fVNsG86KR7ie",
        "outputId": "85ad8bed-8ad2-4959-99d1-e63deb5f8dc4"
      },
      "execution_count": null,
      "outputs": [
        {
          "output_type": "stream",
          "name": "stdout",
          "text": [
            "0       0\n",
            "1       0\n",
            "2       0\n",
            "3       0\n",
            "4       0\n",
            "       ..\n",
            "7262    1\n",
            "7263    1\n",
            "7264    1\n",
            "7265    1\n",
            "7266    1\n",
            "Name: daylight, Length: 7267, dtype: int64\n"
          ]
        }
      ]
    },
    {
      "cell_type": "code",
      "source": [
        "#주말\n",
        "df['DayOfTheWeek'] = df['timestamp'].dt.dayofweek\n",
        "#평일\n",
        "df['WeekDay'] = (df['DayOfTheWeek'] < 5).astype(int)\n",
        "# An estimation of anomly population of the dataset (necessary for several algorithm)\n",
        "#강의에서 e뒤집어 놓은 것\n",
        "outliers_fraction = 0.01\n",
        "print(df['DayOfTheWeek'].value_counts())\n",
        "print(df['WeekDay'].value_counts())\n",
        "#대충 보니까 0~4일가지 평일이고\n",
        "#1이 평일 같음."
      ],
      "metadata": {
        "colab": {
          "base_uri": "https://localhost:8080/"
        },
        "id": "C8PqeeQmR7lX",
        "outputId": "210d36dc-e5af-4821-cf56-b13d9696a7c6"
      },
      "execution_count": null,
      "outputs": [
        {
          "output_type": "stream",
          "name": "stdout",
          "text": [
            "4    1066\n",
            "3    1064\n",
            "1    1054\n",
            "2    1048\n",
            "5    1032\n",
            "0    1011\n",
            "6     992\n",
            "Name: DayOfTheWeek, dtype: int64\n",
            "1    5243\n",
            "0    2024\n",
            "Name: WeekDay, dtype: int64\n"
          ]
        }
      ]
    },
    {
      "cell_type": "code",
      "source": [
        "#이건 뭐한건지 잘 모르겠음.\n",
        "df['time_epoch'] = (df['timestamp'].astype(np.int64)/100000000000).astype(np.int64)"
      ],
      "metadata": {
        "id": "jnhX1n6tR7n8"
      },
      "execution_count": null,
      "outputs": []
    },
    {
      "cell_type": "code",
      "source": [
        "# creation of 4 distinct categories that seem useful (week end/day week & night/day)\n",
        "df['categories'] = df['WeekDay']*2 + df['daylight']\n",
        "#주말 평일 / 밤 낮\n",
        "a = df.loc[df['categories'] == 0, 'value'] # 0 + 0 # 주말 / 밤\n",
        "b = df.loc[df['categories'] == 1, 'value'] # 0 + 1 # 주말 / 낮\n",
        "c = df.loc[df['categories'] == 2, 'value'] # 2 + 0 # 평일 / 밤\n",
        "d = df.loc[df['categories'] == 3, 'value'] # 2 + 1 # 평일 / 낮\n",
        "\n",
        "fig, ax = plt.subplots()\n",
        "a_heights, a_bins = np.histogram(a)\n",
        "b_heights, b_bins = np.histogram(b, bins=a_bins)\n",
        "c_heights, c_bins = np.histogram(c, bins=a_bins)\n",
        "d_heights, d_bins = np.histogram(d, bins=a_bins)\n",
        "#히스토그램의 높이와 막대를 설정해줌. 넘파이를 사용\n",
        "width = (a_bins[1] - a_bins[0])/6\n",
        "\n",
        "ax.bar(a_bins[:-1], a_heights*100/a.count(), width=width, facecolor='blue', label='WeekEndNight')\n",
        "ax.bar(b_bins[:-1]+width, (b_heights*100/b.count()), width=width, facecolor='green', label ='WeekEndLight')\n",
        "ax.bar(c_bins[:-1]+width*2, (c_heights*100/c.count()), width=width, facecolor='red', label ='WeekDayNight')\n",
        "ax.bar(d_bins[:-1]+width*3, (d_heights*100/d.count()), width=width, facecolor='black', label ='WeekDayLight')\n",
        "\n",
        "plt.legend()\n",
        "plt.show()"
      ],
      "metadata": {
        "colab": {
          "base_uri": "https://localhost:8080/",
          "height": 265
        },
        "id": "FB5xI0_JR7q4",
        "outputId": "79e0ed15-1b96-4074-e745-dcfba75c9d4c"
      },
      "execution_count": null,
      "outputs": [
        {
          "output_type": "display_data",
          "data": {
            "image/png": "[encoded data removed]",
            "text/plain": [
              "<Figure size 432x288 with 1 Axes>"
            ]
          },
          "metadata": {
            "needs_background": "light"
          }
        }
      ]
    },
    {
      "cell_type": "code",
      "source": [
        "#낮 밤만 보자.\n",
        "# creation of 4 distinct categories that seem useful (week end/day week & night/day)\n",
        "df['categories'] = df['WeekDay']*2 + df['daylight']\n",
        "#주말 평일 / 밤 낮\n",
        "a = df.loc[df['categories'] == 0, 'value'] # 0 + 0 # 주말 / 밤\n",
        "b = df.loc[df['categories'] == 1, 'value'] # 0 + 1 # 주말 / 낮\n",
        "c = df.loc[df['categories'] == 2, 'value'] # 2 + 0 # 평일 / 밤\n",
        "d = df.loc[df['categories'] == 3, 'value'] # 2 + 1 # 평일 / 낮\n",
        "\n",
        "fig, ax = plt.subplots()\n",
        "a_heights, a_bins = np.histogram(a)\n",
        "b_heights, b_bins = np.histogram(b, bins=a_bins)\n",
        "c_heights, c_bins = np.histogram(c, bins=a_bins)\n",
        "d_heights, d_bins = np.histogram(d, bins=a_bins)\n",
        "#히스토그램의 높이와 막대를 설정해줌. 넘파이를 사용\n",
        "width = (a_bins[1] - a_bins[0])/6\n",
        "\n",
        "ax.bar(a_bins[:-1], a_heights*100/a.count(), width=width, facecolor='black', label='Night')\n",
        "ax.bar(b_bins[:-1]+width, (b_heights*100/b.count()), width=width, facecolor='red', label ='Light')\n",
        "ax.bar(c_bins[:-1]+width*2, (c_heights*100/c.count()), width=width, facecolor='black', label ='Night')\n",
        "ax.bar(d_bins[:-1]+width*3, (d_heights*100/d.count()), width=width, facecolor='red', label ='Light')\n",
        "\n",
        "plt.legend()\n",
        "plt.show()"
      ],
      "metadata": {
        "colab": {
          "base_uri": "https://localhost:8080/",
          "height": 265
        },
        "id": "Jt1VI--vR7tM",
        "outputId": "fe1e7ea7-fcdc-4d6c-fea2-5eb31d2f9183"
      },
      "execution_count": null,
      "outputs": [
        {
          "output_type": "display_data",
          "data": {
            "image/png": "[encoded data removed]",
            "text/plain": [
              "<Figure size 432x288 with 1 Axes>"
            ]
          },
          "metadata": {
            "needs_background": "light"
          }
        }
      ]
    },
    {
      "cell_type": "markdown",
      "source": [
        "#밤에 온도가 더 높을수도 있나? 열대야현상 그런건가?"
      ],
      "metadata": {
        "id": "Jx2OT86UYvik"
      }
    },
    {
      "cell_type": "code",
      "source": [
        "# Take useful feature and standardize them\n",
        "data = df[['value', 'hours', 'daylight', 'DayOfTheWeek', 'WeekDay']]\n",
        "#정규화 진행해준다. min/max 사용하면 값이 0~1로 됨.\n",
        "min_max_scaler = preprocessing.StandardScaler()\n",
        "np_scaled = min_max_scaler.fit_transform(data)\n",
        "data = pd.DataFrame(np_scaled)\n",
        "# reduce to 2 importants features\n",
        "pca = PCA(n_components=2)\n",
        "data = pca.fit_transform(data)\n",
        "# standardize these 2 new features\n",
        "min_max_scaler = preprocessing.StandardScaler()\n",
        "np_scaled = min_max_scaler.fit_transform(data)\n",
        "data = pd.DataFrame(np_scaled)\n",
        "#2개의 유용한 데이터로 줄임.\n",
        "data"
      ],
      "metadata": {
        "colab": {
          "base_uri": "https://localhost:8080/",
          "height": 423
        },
        "id": "QFKfQgdER7v6",
        "outputId": "f5e4653f-85ea-4ff3-de3c-7219f9cae112"
      },
      "execution_count": null,
      "outputs": [
        {
          "output_type": "execute_result",
          "data": {
            "text/html": [
              "\n",
              "  <div id=\"df-ca9561f2-3510-4dcd-bd3c-5012db1d264a\">\n",
              "    <div class=\"colab-df-container\">\n",
              "      <div>\n",
              "<style scoped>\n",
              "    .dataframe tbody tr th:only-of-type {\n",
              "        vertical-align: middle;\n",
              "    }\n",
              "\n",
              "    .dataframe tbody tr th {\n",
              "        vertical-align: top;\n",
              "    }\n",
              "\n",
              "    .dataframe thead th {\n",
              "        text-align: right;\n",
              "    }\n",
              "</style>\n",
              "<table border=\"1\" class=\"dataframe\">\n",
              "  <thead>\n",
              "    <tr style=\"text-align: right;\">\n",
              "      <th></th>\n",
              "      <th>0</th>\n",
              "      <th>1</th>\n",
              "    </tr>\n",
              "  </thead>\n",
              "  <tbody>\n",
              "    <tr>\n",
              "      <th>0</th>\n",
              "      <td>0.066191</td>\n",
              "      <td>1.755363</td>\n",
              "    </tr>\n",
              "    <tr>\n",
              "      <th>1</th>\n",
              "      <td>-0.009413</td>\n",
              "      <td>1.647609</td>\n",
              "    </tr>\n",
              "    <tr>\n",
              "      <th>2</th>\n",
              "      <td>-0.009359</td>\n",
              "      <td>1.577677</td>\n",
              "    </tr>\n",
              "    <tr>\n",
              "      <th>3</th>\n",
              "      <td>0.061592</td>\n",
              "      <td>1.543184</td>\n",
              "    </tr>\n",
              "    <tr>\n",
              "      <th>4</th>\n",
              "      <td>0.031660</td>\n",
              "      <td>1.458262</td>\n",
              "    </tr>\n",
              "    <tr>\n",
              "      <th>...</th>\n",
              "      <td>...</td>\n",
              "      <td>...</td>\n",
              "    </tr>\n",
              "    <tr>\n",
              "      <th>7262</th>\n",
              "      <td>-0.663130</td>\n",
              "      <td>-0.218870</td>\n",
              "    </tr>\n",
              "    <tr>\n",
              "      <th>7263</th>\n",
              "      <td>-0.669607</td>\n",
              "      <td>-0.292067</td>\n",
              "    </tr>\n",
              "    <tr>\n",
              "      <th>7264</th>\n",
              "      <td>-0.679271</td>\n",
              "      <td>-0.366858</td>\n",
              "    </tr>\n",
              "    <tr>\n",
              "      <th>7265</th>\n",
              "      <td>-0.684664</td>\n",
              "      <td>-0.439514</td>\n",
              "    </tr>\n",
              "    <tr>\n",
              "      <th>7266</th>\n",
              "      <td>-0.734152</td>\n",
              "      <td>-0.534212</td>\n",
              "    </tr>\n",
              "  </tbody>\n",
              "</table>\n",
              "<p>7267 rows × 2 columns</p>\n",
              "</div>\n",
              "      <button class=\"colab-df-convert\" onclick=\"convertToInteractive('df-ca9561f2-3510-4dcd-bd3c-5012db1d264a')\"\n",
              "              title=\"Convert this dataframe to an interactive table.\"\n",
              "              style=\"display:none;\">\n",
              "        \n",
              "  <svg xmlns=\"http://www.w3.org/2000/svg\" height=\"24px\"viewBox=\"0 0 24 24\"\n",
              "       width=\"24px\">\n",
              "    <path d=\"M0 0h24v24H0V0z\" fill=\"none\"/>\n",
              "    <path d=\"M18.56 5.44l.94 2.06.94-2.06 2.06-.94-2.06-.94-.94-2.06-.94 2.06-2.06.94zm-11 1L8.5 8.5l.94-2.06 2.06-.94-2.06-.94L8.5 2.5l-.94 2.06-2.06.94zm10 10l.94 2.06.94-2.06 2.06-.94-2.06-.94-.94-2.06-.94 2.06-2.06.94z\"/><path d=\"M17.41 7.96l-1.37-1.37c-.4-.4-.92-.59-1.43-.59-.52 0-1.04.2-1.43.59L10.3 9.45l-7.72 7.72c-.78.78-.78 2.05 0 2.83L4 21.41c.39.39.9.59 1.41.59.51 0 1.02-.2 1.41-.59l7.78-7.78 2.81-2.81c.8-.78.8-2.07 0-2.86zM5.41 20L4 18.59l7.72-7.72 1.47 1.35L5.41 20z\"/>\n",
              "  </svg>\n",
              "      </button>\n",
              "      \n",
              "  <style>\n",
              "    .colab-df-container {\n",
              "      display:flex;\n",
              "      flex-wrap:wrap;\n",
              "      gap: 12px;\n",
              "    }\n",
              "\n",
              "    .colab-df-convert {\n",
              "      background-color: #E8F0FE;\n",
              "      border: none;\n",
              "      border-radius: 50%;\n",
              "      cursor: pointer;\n",
              "      display: none;\n",
              "      fill: #1967D2;\n",
              "      height: 32px;\n",
              "      padding: 0 0 0 0;\n",
              "      width: 32px;\n",
              "    }\n",
              "\n",
              "    .colab-df-convert:hover {\n",
              "      background-color: #E2EBFA;\n",
              "      box-shadow: 0px 1px 2px rgba(60, 64, 67, 0.3), 0px 1px 3px 1px rgba(60, 64, 67, 0.15);\n",
              "      fill: #174EA6;\n",
              "    }\n",
              "\n",
              "    [theme=dark] .colab-df-convert {\n",
              "      background-color: #3B4455;\n",
              "      fill: #D2E3FC;\n",
              "    }\n",
              "\n",
              "    [theme=dark] .colab-df-convert:hover {\n",
              "      background-color: #434B5C;\n",
              "      box-shadow: 0px 1px 3px 1px rgba(0, 0, 0, 0.15);\n",
              "      filter: drop-shadow(0px 1px 2px rgba(0, 0, 0, 0.3));\n",
              "      fill: #FFFFFF;\n",
              "    }\n",
              "  </style>\n",
              "\n",
              "      <script>\n",
              "        const buttonEl =\n",
              "          document.querySelector('#df-ca9561f2-3510-4dcd-bd3c-5012db1d264a button.colab-df-convert');\n",
              "        buttonEl.style.display =\n",
              "          google.colab.kernel.accessAllowed ? 'block' : 'none';\n",
              "\n",
              "        async function convertToInteractive(key) {\n",
              "          const element = document.querySelector('#df-ca9561f2-3510-4dcd-bd3c-5012db1d264a');\n",
              "          const dataTable =\n",
              "            await google.colab.kernel.invokeFunction('convertToInteractive',\n",
              "                                                     [key], {});\n",
              "          if (!dataTable) return;\n",
              "\n",
              "          const docLinkHtml = 'Like what you see? Visit the ' +\n",
              "            '<a target=\"_blank\" href=https://colab.research.google.com/notebooks/data_table.ipynb>data table notebook</a>'\n",
              "            + ' to learn more about interactive tables.';\n",
              "          element.innerHTML = '';\n",
              "          dataTable['output_type'] = 'display_data';\n",
              "          await google.colab.output.renderOutput(dataTable, element);\n",
              "          const docLink = document.createElement('div');\n",
              "          docLink.innerHTML = docLinkHtml;\n",
              "          element.appendChild(docLink);\n",
              "        }\n",
              "      </script>\n",
              "    </div>\n",
              "  </div>\n",
              "  "
            ],
            "text/plain": [
              "             0         1\n",
              "0     0.066191  1.755363\n",
              "1    -0.009413  1.647609\n",
              "2    -0.009359  1.577677\n",
              "3     0.061592  1.543184\n",
              "4     0.031660  1.458262\n",
              "...        ...       ...\n",
              "7262 -0.663130 -0.218870\n",
              "7263 -0.669607 -0.292067\n",
              "7264 -0.679271 -0.366858\n",
              "7265 -0.684664 -0.439514\n",
              "7266 -0.734152 -0.534212\n",
              "\n",
              "[7267 rows x 2 columns]"
            ]
          },
          "metadata": {},
          "execution_count": 26
        }
      ]
    },
    {
      "cell_type": "code",
      "source": [
        "# k - means를 진행해보자.\n",
        "#일단 엘보우 포인트를 찾아보자. \n",
        "#3..4...?\n",
        "distortions = []\n",
        "param_init='random'\n",
        "param_n_init=10\n",
        "param_max_iter=300\n",
        "for i in range(1, 10):\n",
        "    km = KMeans(n_clusters=i, init=param_init, n_init=param_n_init, max_iter=param_max_iter, random_state=0)\n",
        "    km.fit(data)\n",
        "    distortions.append(km.inertia_)\n",
        "\n",
        "plt.plot(range(1, 10), distortions, marker='o')\n",
        "plt.xlabel('Number of Cluster')\n",
        "plt.ylabel('Distortion')\n",
        "plt.show()\n"
      ],
      "metadata": {
        "colab": {
          "base_uri": "https://localhost:8080/",
          "height": 278
        },
        "id": "_KByhrobR7y5",
        "outputId": "c87d62f3-86fc-4e08-af95-bc771f10bd54"
      },
      "execution_count": null,
      "outputs": [
        {
          "output_type": "display_data",
          "data": {
            "image/png": "[encoded data removed]",
            "text/plain": [
              "<Figure size 432x288 with 1 Axes>"
            ]
          },
          "metadata": {
            "needs_background": "light"
          }
        }
      ]
    },
    {
      "cell_type": "code",
      "source": [
        "n_cluster = range(1, 20)\n",
        "kmeans = [KMeans(n_clusters=i).fit(data) for i in n_cluster]\n",
        "scores = [kmeans[i].score(data) for i in range(len(kmeans))]"
      ],
      "metadata": {
        "id": "ZWOPqaiOhjE5"
      },
      "execution_count": null,
      "outputs": []
    },
    {
      "cell_type": "code",
      "source": [
        "df['cluster'] = kmeans[3].predict(data)\n",
        "df['principal_feature1'] = data[0]\n",
        "df['principal_feature2'] = data[1]\n",
        "df['cluster'].value_counts()\n",
        "print(df['cluster'])"
      ],
      "metadata": {
        "colab": {
          "base_uri": "https://localhost:8080/"
        },
        "id": "cN5NnkQKhlWH",
        "outputId": "c07b863d-47f2-4484-efd0-309a05b0f3b9"
      },
      "execution_count": null,
      "outputs": [
        {
          "output_type": "stream",
          "name": "stdout",
          "text": [
            "0       3\n",
            "1       3\n",
            "2       3\n",
            "3       3\n",
            "4       3\n",
            "       ..\n",
            "7262    0\n",
            "7263    0\n",
            "7264    0\n",
            "7265    0\n",
            "7266    0\n",
            "Name: cluster, Length: 7267, dtype: int32\n"
          ]
        }
      ]
    },
    {
      "cell_type": "code",
      "source": [
        "fig, ax = plt.subplots()\n",
        "colors = {0:'red', 1:'blue', 2:'green', 3:'pink'}\n",
        "ax.scatter(df['principal_feature1'], df['principal_feature2'], c=df[\"cluster\"].apply(lambda x: colors[x]))\n",
        "plt.show()"
      ],
      "metadata": {
        "colab": {
          "base_uri": "https://localhost:8080/",
          "height": 265
        },
        "id": "d48bnXm-hsuX",
        "outputId": "231b4e17-f534-41b0-a19f-16100b375097"
      },
      "execution_count": null,
      "outputs": [
        {
          "output_type": "display_data",
          "data": {
            "image/png": "[encoded data removed]",
            "text/plain": [
              "<Figure size 432x288 with 1 Axes>"
            ]
          },
          "metadata": {
            "needs_background": "light"
          }
        }
      ]
    },
    {
      "cell_type": "markdown",
      "source": [
        "#생각해보면 당연할 수도 있다. 애초에 범주를 4가로 나누었으니 4개로 나오는 것이구나.\n",
        "#근데 차원을 줄여도 비슷한 범주가 나온다는 것이 신기하다."
      ],
      "metadata": {
        "id": "LKZytrYWiXZp"
      }
    },
    {
      "cell_type": "code",
      "source": [
        "#정규분포 그리는 법\n",
        "#https://codetorial.net/articles/normal_distribution.html\n",
        "\n",
        "import numpy as np\n",
        "import matplotlib.pyplot as plt\n",
        "\n",
        "np.random.seed(0)\n",
        "\n",
        "plt.style.use('default')\n",
        "plt.rcParams['figure.figsize'] = (6, 3)\n",
        "plt.rcParams['font.size'] = 12\n",
        "plt.rcParams['lines.linewidth'] = 5\n",
        "\n",
        "mu1, sigma1 = 0.0, 1.0\n",
        "mu2, sigma2 = 1.5, 1.5\n",
        "mu3, sigma3 = 3.0, 2.0\n",
        "\n",
        "x = np.linspace(-8, 8, 1000)\n",
        "y1 = (1 / np.sqrt(2 * np.pi * sigma1**2)) * np.exp(-(x-mu1)**2 / (2 * sigma1**2))\n",
        "y2 = (1 / np.sqrt(2 * np.pi * sigma2**2)) * np.exp(-(x-mu2)**2 / (2 * sigma2**2))\n",
        "y3 = (1 / np.sqrt(2 * np.pi * sigma3**2)) * np.exp(-(x-mu3)**2 / (2 * sigma3**2))\n",
        "\n",
        "y4 = np.random.normal(mu1, sigma1, 50000)\n",
        "y5 = np.random.normal(mu2, sigma2, 50000)\n",
        "y6 = np.random.normal(mu3, sigma3, 50000)\n",
        "\n",
        "plt.plot(x, y1, alpha=0.7, label=r'PDF of N(0, $1^2$)')\n",
        "plt.plot(x, y2, alpha=0.7, label=r'PDF of N(1.5, $1.5^2$)')\n",
        "plt.plot(x, y3, alpha=0.7, label=r'PDF of N(3.0, $2.0^2$)')\n",
        "\n",
        "plt.hist(y4, bins=1000, density=True, histtype='stepfilled', label=r'random.normal(0, $1^2$)', color='C0')\n",
        "plt.hist(y5, bins=1000, density=True, histtype='stepfilled', label=r'random.normal(1.5, $1.5^2$)', color='C1')\n",
        "plt.hist(y6, bins=1000, density=True, histtype='stepfilled', label=r'random.normal(3.0, $2.0^2$)', color='C2')\n",
        "\n",
        "plt.xlabel('x')\n",
        "plt.ylabel('f(x)')\n",
        "plt.xlim(-8.5, 8.5)\n",
        "plt.legend(ncol=2, bbox_to_anchor=(1.0, -0.2))\n",
        "plt.show()"
      ],
      "metadata": {
        "colab": {
          "base_uri": "https://localhost:8080/",
          "height": 417
        },
        "id": "VAOSfzbnwgv2",
        "outputId": "f9b0b50e-a2f8-4fdb-b395-089c14330400"
      },
      "execution_count": null,
      "outputs": [
        {
          "output_type": "display_data",
          "data": {
            "image/png": "[encoded data removed]",
            "text/plain": [
              "<Figure size 600x300 with 1 Axes>"
            ]
          },
          "metadata": {}
        }
      ]
    },
    {
      "cell_type": "markdown",
      "source": [
        "#근데 변수를 뭘 써야하지.....???\n"
      ],
      "metadata": {
        "id": "PK96KQyZxJi8"
      }
    },
    {
      "cell_type": "code",
      "source": [
        ""
      ],
      "metadata": {
        "id": "o_C171lthyqc"
      },
      "execution_count": null,
      "outputs": []
    },
    {
      "cell_type": "code",
      "source": [
        ""
      ],
      "metadata": {
        "id": "vx9drFsahywc"
      },
      "execution_count": null,
      "outputs": []
    },
    {
      "cell_type": "code",
      "source": [
        ""
      ],
      "metadata": {
        "id": "M1K-YiLms-79"
      },
      "execution_count": null,
      "outputs": []
    },
    {
      "cell_type": "code",
      "source": [
        ""
      ],
      "metadata": {
        "id": "8CkQ87v2t4AT"
      },
      "execution_count": null,
      "outputs": []
    },
    {
      "cell_type": "code",
      "source": [
        ""
      ],
      "metadata": {
        "id": "3EZqyUzAhy3P"
      },
      "execution_count": null,
      "outputs": []
    },
    {
      "cell_type": "markdown",
      "source": [
        "#뭔가 망했다. 아무래도 변수를 잘못 쓴 것 같다."
      ],
      "metadata": {
        "id": "0HRg--pkvmI9"
      }
    }
  ]
}
