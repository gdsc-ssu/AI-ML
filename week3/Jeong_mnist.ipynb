{
  "nbformat": 4,
  "nbformat_minor": 0,
  "metadata": {
    "colab": {
      "name": "mnist.ipynb",
      "provenance": [],
      "collapsed_sections": []
    },
    "kernelspec": {
      "name": "python3",
      "display_name": "Python 3"
    },
    "language_info": {
      "name": "python"
    }
  },
  "cells": [
    {
      "cell_type": "code",
      "metadata": {
        "id": "51GGoNmZ7YhL"
      },
      "source": [
        "import pandas as pd\n",
        "import numpy as np\n",
        "import matplotlib.pyplot as plt\n",
        "import sklearn\n",
        "from sklearn.datasets import load_digits"
      ],
      "execution_count": 13,
      "outputs": []
    },
    {
      "cell_type": "code",
      "metadata": {
        "id": "UEbaViap77gW"
      },
      "source": [
        "digits = load_digits()"
      ],
      "execution_count": 14,
      "outputs": []
    },
    {
      "cell_type": "code",
      "metadata": {
        "colab": {
          "base_uri": "https://localhost:8080/",
          "height": 310
        },
        "id": "SUN0dxYp8LLc",
        "outputId": "395caf94-d2bf-49b8-adca-65f5445e4097"
      },
      "source": [
        "plt.gray() #기본 컬러맵을 gray scale로 설정한다.\n",
        "plt.matshow(digits.images[0]) #행렬에 저장된 데이터를 기반으로 이미지를 표시한다."
      ],
      "execution_count": 15,
      "outputs": [
        {
          "output_type": "execute_result",
          "data": {
            "text/plain": [
              "<matplotlib.image.AxesImage at 0x7fcefb319c10>"
            ]
          },
          "metadata": {},
          "execution_count": 15
        },
        {
          "output_type": "display_data",
          "data": {
            "text/plain": [
              "<Figure size 432x288 with 0 Axes>"
            ]
          },
          "metadata": {}
        },
        {
          "output_type": "display_data",
          "data": {
            "image/png": "[encoded data removed]",
            "text/plain": [
              "<Figure size 288x288 with 1 Axes>"
            ]
          },
          "metadata": {
            "needs_background": "light"
          }
        }
      ]
    },
    {
      "cell_type": "code",
      "metadata": {
        "id": "QDZIVNmw9Bht"
      },
      "source": [
        "X = digits.images\n",
        "y = digits.target\n",
        "m = y.size\n",
        "image_size = 8 * 8 #이미지의 크기\n",
        "num_label = np.arange(10) #나올 수 있는 숫자의 경우"
      ],
      "execution_count": 16,
      "outputs": []
    },
    {
      "cell_type": "code",
      "metadata": {
        "colab": {
          "base_uri": "https://localhost:8080/",
          "height": 574
        },
        "id": "i2l0Rljm9iue",
        "outputId": "f6233bfb-59cb-4fb2-8371-cbab7ab4345d"
      },
      "source": [
        "rand_indices = np.random.choice(m, 100, replace=False)\n",
        "rand_image = X[rand_indices]\n",
        "fig,axes = plt.subplots(10,10,figsize=(10,10))\n",
        "fig.subplots_adjust(wspace = 0.025,hspace = 0.025)\n",
        "axes = axes.ravel()\n",
        "for i,ax in enumerate(axes):\n",
        "  ax.matshow(rand_image[i])\n",
        "  ax.axis('off')"
      ],
      "execution_count": 5,
      "outputs": [
        {
          "output_type": "display_data",
          "data": {
            "image/png": "[encoded data removed]",
            "text/plain": [
              "<Figure size 720x720 with 100 Axes>"
            ]
          },
          "metadata": {
            "needs_background": "light"
          }
        }
      ]
    },
    {
      "cell_type": "code",
      "metadata": {
        "colab": {
          "base_uri": "https://localhost:8080/"
        },
        "id": "NnrYdrrLVGMO",
        "outputId": "96084145-bb7e-4daa-c2fb-d4a63183f9a8"
      },
      "source": [
        "X.shape #3차원 데이터 이므로 최적화를 쉽게 하기 위해 2차원 데이터로 변경해준다."
      ],
      "execution_count": 17,
      "outputs": [
        {
          "output_type": "execute_result",
          "data": {
            "text/plain": [
              "(1797, 8, 8)"
            ]
          },
          "metadata": {},
          "execution_count": 17
        }
      ]
    },
    {
      "cell_type": "code",
      "metadata": {
        "id": "e6jMevI2kFQ8"
      },
      "source": [
        "X = (X-X.mean()) / X.std() #X 데이터에 정규화를 진행한다."
      ],
      "execution_count": 28,
      "outputs": []
    },
    {
      "cell_type": "code",
      "metadata": {
        "colab": {
          "base_uri": "https://localhost:8080/"
        },
        "id": "3MclgNsuVM3j",
        "outputId": "5457ed43-2238-4da9-ce69-dce47671a892"
      },
      "source": [
        "X = X.reshape((m, 64))\n",
        "X = np.concatenate([np.ones((m,1)),X],axis = 1) #bias term을 추가 해준다.\n",
        "X.shape"
      ],
      "execution_count": 18,
      "outputs": [
        {
          "output_type": "execute_result",
          "data": {
            "text/plain": [
              "(1797, 65)"
            ]
          },
          "metadata": {},
          "execution_count": 18
        }
      ]
    },
    {
      "cell_type": "code",
      "metadata": {
        "colab": {
          "base_uri": "https://localhost:8080/"
        },
        "id": "zSNw6xRzWlog",
        "outputId": "465e1e92-600b-4406-a3d4-198b5da7fd28"
      },
      "source": [
        "X[0] #X가 잘있는지 확인"
      ],
      "execution_count": 11,
      "outputs": [
        {
          "output_type": "execute_result",
          "data": {
            "text/plain": [
              "array([ 1.,  0.,  0.,  5., 13.,  9.,  1.,  0.,  0.,  0.,  0., 13., 15.,\n",
              "       10., 15.,  5.,  0.,  0.,  3., 15.,  2.,  0., 11.,  8.,  0.,  0.,\n",
              "        4., 12.,  0.,  0.,  8.,  8.,  0.,  0.,  5.,  8.,  0.,  0.,  9.,\n",
              "        8.,  0.,  0.,  4., 11.,  0.,  1., 12.,  7.,  0.,  0.,  2., 14.,\n",
              "        5., 10., 12.,  0.,  0.,  0.,  0.,  6., 13., 10.,  0.,  0.,  0.])"
            ]
          },
          "metadata": {},
          "execution_count": 11
        }
      ]
    },
    {
      "cell_type": "code",
      "metadata": {
        "id": "7ee0zBbtRYlA"
      },
      "source": [
        "def sigmoid(z):\n",
        "  return 1 / (1 + np.exp(-z))"
      ],
      "execution_count": 10,
      "outputs": []
    },
    {
      "cell_type": "code",
      "metadata": {
        "id": "P6OcjXQWQwgn"
      },
      "source": [
        "def lrcost_function(theta, X, y, _lambda = 0.01):\n",
        "  if y.dtype == bool: #y의 값이 bool로 들어오는 경우 int로 변환 해준다.\n",
        "    y = y.astype(int)\n",
        "  h = sigmoid(X.dot(theta))\n",
        "  regularization = np.mean(np.power(theta[1:],2)) * (_lambda / 2)\n",
        "  cost = -1 * np.mean(y * np.log(h) + (1 - y) * np.log(1 - h)) + regularization\n",
        "  grad = (1 / m) * ((h - y).T.dot(X) + (_lambda * theta))\n",
        "  return cost,grad"
      ],
      "execution_count": 9,
      "outputs": []
    },
    {
      "cell_type": "code",
      "metadata": {
        "id": "ulix7YiFU5di"
      },
      "source": [
        "def check_cost(theta):\n",
        "  res = [[] for _ in num_label]\n",
        "  for i in num_label: # 나올 수 있는 모든 수에 대한 초기 비용을 구한다.\n",
        "    res[i].append(lrcost_function(theta[i], X, y == i)[0]) #target의 값이 i라면 true로 값이 전달된다.\n",
        "  return np.sum(res)\n"
      ],
      "execution_count": 70,
      "outputs": []
    },
    {
      "cell_type": "code",
      "metadata": {
        "id": "sez3KXvCZYqd",
        "colab": {
          "base_uri": "https://localhost:8080/"
        },
        "outputId": "5a0a3cfb-139b-4939-859b-f7ccd032d414"
      },
      "source": [
        "init_theta = np.zeros((10, image_size + 1)) #이미지가 8 * 8 이므로 64개의 변수가 존재하고 여기에 bias를 더해준다.\n",
        "check_cost(init_theta) #각각의 수에 대한 초기 비용"
      ],
      "execution_count": 71,
      "outputs": [
        {
          "output_type": "execute_result",
          "data": {
            "text/plain": [
              "6.931471805599454"
            ]
          },
          "metadata": {},
          "execution_count": 71
        }
      ]
    },
    {
      "cell_type": "markdown",
      "metadata": {
        "id": "XPsVRlPUdoay"
      },
      "source": [
        "#SGD 모델을 통해서 최적화를 해보자\n",
        "* SGD 모델을 통한 최적화를 진행하고 이후 직접 최적화를 진행해 비교해보자"
      ]
    },
    {
      "cell_type": "code",
      "metadata": {
        "id": "BHQKoMm0bvCt"
      },
      "source": [
        "from sklearn.linear_model import SGDRegressor"
      ],
      "execution_count": 29,
      "outputs": []
    },
    {
      "cell_type": "code",
      "metadata": {
        "id": "B9CX1Aaqbi_6"
      },
      "source": [
        "def SGD_gradient(X,y):\n",
        "    model = SGDRegressor(max_iter=2000, tol=1e-5, learning_rate='constant')\n",
        "    res = [[] for _ in num_label]\n",
        "    for i in num_label:\n",
        "      model.fit(X, y == i)\n",
        "      res[i].append(model.coef_)\n",
        "    return res"
      ],
      "execution_count": 30,
      "outputs": []
    },
    {
      "cell_type": "code",
      "metadata": {
        "id": "5R4jVtvzdSM1"
      },
      "source": [
        "SGD_theta = SGD_gradient(X,y) #0~9까지의 경우에 대한 theta의 값"
      ],
      "execution_count": 31,
      "outputs": []
    },
    {
      "cell_type": "code",
      "metadata": {
        "id": "dyEZhOh-3rVP"
      },
      "source": [
        "SGD_theta"
      ],
      "execution_count": null,
      "outputs": []
    },
    {
      "cell_type": "markdown",
      "metadata": {
        "id": "NFB6eiYkd9NL"
      },
      "source": [
        "#Scipy의 최적화 함수를 활용해 최적화 해보기\n",
        "* Scipy를 활용해 최적화를 진행해보자"
      ]
    },
    {
      "cell_type": "code",
      "metadata": {
        "id": "x59_ciL6erZx"
      },
      "source": [
        "from scipy import optimize"
      ],
      "execution_count": 34,
      "outputs": []
    },
    {
      "cell_type": "code",
      "metadata": {
        "id": "2ModrzP9eE3-"
      },
      "source": [
        "#scipy 내부에 존재하는 minimize 메서드를 통해 문제를 해결합니다.\n",
        "def Scipy_gradient(X,y,lambda_= 0.1):\n",
        "  all_theta = [[] for _ in num_label]\n",
        "  options = {'maxiter':2000}\n",
        "  for c in num_label: # classify 0 to 9\n",
        "    initial_theta = np.zeros(image_size + 1)\n",
        "    #minimize함수를 통해 파라미터 최적화를 진행합니다.\n",
        "    res = optimize.minimize(lrcost_function,\n",
        "                            initial_theta, \n",
        "                            (X, (y == c), lambda_),\n",
        "                            jac = True, method ='CG', \n",
        "                            options=options)\n",
        "    #연산한 세타값을 저장합니다. \n",
        "    all_theta[c] = res.x\n",
        "  return all_theta"
      ],
      "execution_count": 49,
      "outputs": []
    },
    {
      "cell_type": "code",
      "metadata": {
        "id": "nhXi14Szex2x"
      },
      "source": [
        "scipy_theta = np.array(Scipy_gradient(X,y))"
      ],
      "execution_count": 50,
      "outputs": []
    },
    {
      "cell_type": "code",
      "metadata": {
        "colab": {
          "base_uri": "https://localhost:8080/"
        },
        "id": "uB7y0SfK4Rng",
        "outputId": "e2af6566-0631-4579-8180-86bb957e0486"
      },
      "source": [
        "scipy_theta[1]"
      ],
      "execution_count": 51,
      "outputs": [
        {
          "output_type": "execute_result",
          "data": {
            "text/plain": [
              "array([ 0.59322612,  0.74834192,  0.55433028, -0.17419175,  0.31743811,\n",
              "       -1.71505321,  0.64590149, -0.08398171,  0.58053604,  0.7440616 ,\n",
              "       -0.71374934, -1.20046107, -0.20734133,  0.61613809,  0.51486763,\n",
              "       -0.69270544,  0.62150621,  0.79325327,  0.47888824,  0.29616781,\n",
              "        2.23751067,  1.7670458 , -0.19042438, -0.21264429,  0.69598497,\n",
              "        0.7683841 ,  0.32009842,  0.04764704,  0.9383977 , -0.05462184,\n",
              "        0.5398733 , -0.4956501 ,  0.74744013,  0.74834192, -0.20501186,\n",
              "       -0.03382577, -0.15603384,  0.03763412, -0.3858718 , -0.85451872,\n",
              "        0.74834192,  0.74119627, -0.62219845, -0.51024349,  0.34134752,\n",
              "        0.46439671, -0.61546404, -0.80974498,  0.73601768,  0.73232189,\n",
              "        0.16489431, -0.28237221,  0.32764388,  0.31253119, -0.05404979,\n",
              "       -0.6050276 ,  0.89127252,  0.74364174,  0.53845078, -0.60184726,\n",
              "        0.02277895,  0.03935053,  0.75374639,  0.08556399,  0.95802238])"
            ]
          },
          "metadata": {},
          "execution_count": 51
        }
      ]
    },
    {
      "cell_type": "markdown",
      "metadata": {
        "id": "YRY24oHFkj0j"
      },
      "source": [
        "#이제 로지스틱 회귀를 활용한 다중 분류 알고리즘으로 예측해보자!!\n",
        "* 우리는 지금까지 로지스틱 회귀를 활용해 one-vs-all 문제를 해결해봤다.\n",
        "* 파라미터 값도 전부 도출했으니 이제 결과를 확인해보자"
      ]
    },
    {
      "cell_type": "code",
      "metadata": {
        "id": "bzC7tIirkisV"
      },
      "source": [
        "def predict(scipy_theta, SGD_theta):\n",
        "   sci_res = np.argmax(X.dot(scipy_theta.T), axis = 1) \n",
        "   sgd_res = np.argmax(X.dot(SGD_theta.T), axis = 1) \n",
        "   return sci_res, sgd_res"
      ],
      "execution_count": 33,
      "outputs": []
    },
    {
      "cell_type": "markdown",
      "metadata": {
        "id": "ilD7kLXOsIQE"
      },
      "source": [
        "### 연산된 행렬 값 중 row를 기준으로 가장 값이 큰 인덱스를 찾습니다.\n",
        "* (1797,65) * (65,10) => (1797,10)으로 하나의 X이미지에 각각의 숫자를 분류하는데 최적화 된 theta값을 모두 곱해봅니다.\n",
        "* 어두운 부분은 0이고 밝은 부분은 1로 이미지 상에 존재하므로 값이 많이 일치될 수록 theta와 X 곱셈의 결과가 클 것입니다.\n",
        "* 이에 따라 argmax함수를 사용해 행 별로 가장 가능성이 유력한 인덱스를 찾아 해당 값을 정답으로 여깁니다. 만약 1번째 인덱스의 값이 가장 크다면 현재 데이터는 1일 가능성이 가장 높다고 생각합니다."
      ]
    },
    {
      "cell_type": "code",
      "metadata": {
        "id": "Ff1Q5kHjnbtQ"
      },
      "source": [
        "sci_pre, sgd_pre = predict(scipy_theta, SGD_theta)"
      ],
      "execution_count": 55,
      "outputs": []
    },
    {
      "cell_type": "code",
      "metadata": {
        "colab": {
          "base_uri": "https://localhost:8080/"
        },
        "id": "pgpHI3DQ5StB",
        "outputId": "5c7fdb92-4a52-41d6-d43f-c64c7c251693"
      },
      "source": [
        "np.mean(y == sgd_pre) * 100"
      ],
      "execution_count": 39,
      "outputs": [
        {
          "output_type": "execute_result",
          "data": {
            "text/plain": [
              "91.48580968280467"
            ]
          },
          "metadata": {},
          "execution_count": 39
        }
      ]
    },
    {
      "cell_type": "code",
      "metadata": {
        "colab": {
          "base_uri": "https://localhost:8080/"
        },
        "id": "u3QrkE7GmoMR",
        "outputId": "0f18ca5e-fae8-42ba-ccff-bd7380bf2c48"
      },
      "source": [
        "np.mean(y== sci_pre) * 100"
      ],
      "execution_count": 40,
      "outputs": [
        {
          "output_type": "execute_result",
          "data": {
            "text/plain": [
              "97.21758486366166"
            ]
          },
          "metadata": {},
          "execution_count": 40
        }
      ]
    },
    {
      "cell_type": "markdown",
      "metadata": {
        "id": "8DlLFBsZs6-F"
      },
      "source": [
        "### SGD와 minimize\n",
        "* SGD를 통한 최적화는 약 91% scipy_minimze를 사용한 결과는 약 97%가 도출 됐습니다.\n",
        "* 이 정도면 썩 괜찮은 결과 아닐까요..?\n"
      ]
    },
    {
      "cell_type": "code",
      "metadata": {
        "colab": {
          "base_uri": "https://localhost:8080/"
        },
        "id": "H8F5iDU4uPrQ",
        "outputId": "953af590-b195-4b3b-8f14-d13152e7315c"
      },
      "source": [
        "print(check_cost(scipy_theta)) #비용함수의 값이 얼마나 줄어 들었는지 확인해보자."
      ],
      "execution_count": 73,
      "outputs": [
        {
          "output_type": "stream",
          "name": "stdout",
          "text": [
            "0.31213660017419814\n"
          ]
        }
      ]
    },
    {
      "cell_type": "code",
      "metadata": {
        "id": "6KxiAT2EsURO"
      },
      "source": [
        "df = pd.DataFrame([sci_pre, y, y == sci_pre]).T\n",
        "df.columns=['predict','y','match']"
      ],
      "execution_count": 42,
      "outputs": []
    },
    {
      "cell_type": "code",
      "metadata": {
        "colab": {
          "base_uri": "https://localhost:8080/",
          "height": 424
        },
        "id": "oeI3g7zzn1Ar",
        "outputId": "e3a8a98b-e737-4a5c-eb86-b8c36b915e12"
      },
      "source": [
        "df"
      ],
      "execution_count": 43,
      "outputs": [
        {
          "output_type": "execute_result",
          "data": {
            "text/html": [
              "<div>\n",
              "<style scoped>\n",
              "    .dataframe tbody tr th:only-of-type {\n",
              "        vertical-align: middle;\n",
              "    }\n",
              "\n",
              "    .dataframe tbody tr th {\n",
              "        vertical-align: top;\n",
              "    }\n",
              "\n",
              "    .dataframe thead th {\n",
              "        text-align: right;\n",
              "    }\n",
              "</style>\n",
              "<table border=\"1\" class=\"dataframe\">\n",
              "  <thead>\n",
              "    <tr style=\"text-align: right;\">\n",
              "      <th></th>\n",
              "      <th>predict</th>\n",
              "      <th>y</th>\n",
              "      <th>match</th>\n",
              "    </tr>\n",
              "  </thead>\n",
              "  <tbody>\n",
              "    <tr>\n",
              "      <th>0</th>\n",
              "      <td>0</td>\n",
              "      <td>0</td>\n",
              "      <td>True</td>\n",
              "    </tr>\n",
              "    <tr>\n",
              "      <th>1</th>\n",
              "      <td>1</td>\n",
              "      <td>1</td>\n",
              "      <td>True</td>\n",
              "    </tr>\n",
              "    <tr>\n",
              "      <th>2</th>\n",
              "      <td>2</td>\n",
              "      <td>2</td>\n",
              "      <td>True</td>\n",
              "    </tr>\n",
              "    <tr>\n",
              "      <th>3</th>\n",
              "      <td>3</td>\n",
              "      <td>3</td>\n",
              "      <td>True</td>\n",
              "    </tr>\n",
              "    <tr>\n",
              "      <th>4</th>\n",
              "      <td>4</td>\n",
              "      <td>4</td>\n",
              "      <td>True</td>\n",
              "    </tr>\n",
              "    <tr>\n",
              "      <th>...</th>\n",
              "      <td>...</td>\n",
              "      <td>...</td>\n",
              "      <td>...</td>\n",
              "    </tr>\n",
              "    <tr>\n",
              "      <th>1792</th>\n",
              "      <td>9</td>\n",
              "      <td>9</td>\n",
              "      <td>True</td>\n",
              "    </tr>\n",
              "    <tr>\n",
              "      <th>1793</th>\n",
              "      <td>0</td>\n",
              "      <td>0</td>\n",
              "      <td>True</td>\n",
              "    </tr>\n",
              "    <tr>\n",
              "      <th>1794</th>\n",
              "      <td>8</td>\n",
              "      <td>8</td>\n",
              "      <td>True</td>\n",
              "    </tr>\n",
              "    <tr>\n",
              "      <th>1795</th>\n",
              "      <td>9</td>\n",
              "      <td>9</td>\n",
              "      <td>True</td>\n",
              "    </tr>\n",
              "    <tr>\n",
              "      <th>1796</th>\n",
              "      <td>8</td>\n",
              "      <td>8</td>\n",
              "      <td>True</td>\n",
              "    </tr>\n",
              "  </tbody>\n",
              "</table>\n",
              "<p>1797 rows × 3 columns</p>\n",
              "</div>"
            ],
            "text/plain": [
              "     predict  y match\n",
              "0          0  0  True\n",
              "1          1  1  True\n",
              "2          2  2  True\n",
              "3          3  3  True\n",
              "4          4  4  True\n",
              "...      ... ..   ...\n",
              "1792       9  9  True\n",
              "1793       0  0  True\n",
              "1794       8  8  True\n",
              "1795       9  9  True\n",
              "1796       8  8  True\n",
              "\n",
              "[1797 rows x 3 columns]"
            ]
          },
          "metadata": {},
          "execution_count": 43
        }
      ]
    },
    {
      "cell_type": "markdown",
      "metadata": {
        "id": "IPjfvrdwtled"
      },
      "source": [
        "### 눈으로 확인해보기\n",
        "* 마지막으로 정말 우리 모델이 정확하게 예측을 했는지 눈으로 한번 확인해 봅시다."
      ]
    },
    {
      "cell_type": "code",
      "metadata": {
        "colab": {
          "base_uri": "https://localhost:8080/",
          "height": 1000
        },
        "id": "KhZIYv3_oQkz",
        "outputId": "9cb6f063-f84b-45fe-a8ff-453b57dfade4"
      },
      "source": [
        "plt.gray() \n",
        "for i in np.random.randint(1000,size=10):\n",
        "  print(f\"my precition is : {df['predict'].iloc[i]}\")\n",
        "  plt.matshow(digits.images[i])"
      ],
      "execution_count": 56,
      "outputs": [
        {
          "output_type": "stream",
          "name": "stdout",
          "text": [
            "my precition is : 6\n",
            "my precition is : 7\n",
            "my precition is : 8\n",
            "my precition is : 6\n",
            "my precition is : 6\n",
            "my precition is : 6\n",
            "my precition is : 2\n",
            "my precition is : 7\n",
            "my precition is : 7\n",
            "my precition is : 4\n"
          ]
        },
        {
          "output_type": "display_data",
          "data": {
            "text/plain": [
              "<Figure size 432x288 with 0 Axes>"
            ]
          },
          "metadata": {}
        },
        {
          "output_type": "display_data",
          "data": {
            "image/png": "[encoded data removed]",
            "text/plain": [
              "<Figure size 288x288 with 1 Axes>"
            ]
          },
          "metadata": {
            "needs_background": "light"
          }
        },
        {
          "output_type": "display_data",
          "data": {
            "image/png": "[encoded data removed]",
            "text/plain": [
              "<Figure size 288x288 with 1 Axes>"
            ]
          },
          "metadata": {
            "needs_background": "light"
          }
        },
        {
          "output_type": "display_data",
          "data": {
            "image/png": "[encoded data removed]",
            "text/plain": [
              "<Figure size 288x288 with 1 Axes>"
            ]
          },
          "metadata": {
            "needs_background": "light"
          }
        },
        {
          "output_type": "display_data",
          "data": {
            "image/png": "[encoded data removed]",
            "text/plain": [
              "<Figure size 288x288 with 1 Axes>"
            ]
          },
          "metadata": {
            "needs_background": "light"
          }
        },
        {
          "output_type": "display_data",
          "data": {
            "image/png": "[encoded data removed]",
            "text/plain": [
              "<Figure size 288x288 with 1 Axes>"
            ]
          },
          "metadata": {
            "needs_background": "light"
          }
        },
        {
          "output_type": "display_data",
          "data": {
            "image/png": "[encoded data removed]",
            "text/plain": [
              "<Figure size 288x288 with 1 Axes>"
            ]
          },
          "metadata": {
            "needs_background": "light"
          }
        },
        {
          "output_type": "display_data",
          "data": {
            "image/png": "[encoded data removed]",
            "text/plain": [
              "<Figure size 288x288 with 1 Axes>"
            ]
          },
          "metadata": {
            "needs_background": "light"
          }
        },
        {
          "output_type": "display_data",
          "data": {
            "image/png": "[encoded data removed]",
            "text/plain": [
              "<Figure size 288x288 with 1 Axes>"
            ]
          },
          "metadata": {
            "needs_background": "light"
          }
        },
        {
          "output_type": "display_data",
          "data": {
            "image/png": "[encoded data removed]",
            "text/plain": [
              "<Figure size 288x288 with 1 Axes>"
            ]
          },
          "metadata": {
            "needs_background": "light"
          }
        },
        {
          "output_type": "display_data",
          "data": {
            "image/png": "[encoded data removed]",
            "text/plain": [
              "<Figure size 288x288 with 1 Axes>"
            ]
          },
          "metadata": {
            "needs_background": "light"
          }
        }
      ]
    }
  ]
}