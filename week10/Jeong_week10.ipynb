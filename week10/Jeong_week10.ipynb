{
  "cells": [
    {
      "cell_type": "code",
      "execution_count": 1,
      "metadata": {
        "colab": {
          "base_uri": "https://localhost:8080/"
        },
        "id": "N5oH7_GUYIZM",
        "outputId": "74cd25fc-95b8-4189-afe7-61f262cb21bf"
      },
      "outputs": [
        {
          "output_type": "stream",
          "name": "stdout",
          "text": [
            "Requirement already satisfied: gdrive_dataset in /usr/local/lib/python3.7/dist-packages (0.0.5)\n",
            "Requirement already satisfied: googledrivedownloader in /usr/local/lib/python3.7/dist-packages (from gdrive_dataset) (0.4)\n"
          ]
        }
      ],
      "source": [
        "!pip install gdrive_dataset"
      ]
    },
    {
      "cell_type": "code",
      "execution_count": 2,
      "metadata": {
        "colab": {
          "base_uri": "https://localhost:8080/"
        },
        "id": "IcJtkpwsZCfc",
        "outputId": "f0ac49c8-019b-42ee-82af-3fbd7daeb48c"
      },
      "outputs": [
        {
          "output_type": "stream",
          "name": "stdout",
          "text": [
            "Requirement already satisfied: konlpy in /usr/local/lib/python3.7/dist-packages (0.6.0)\n",
            "Requirement already satisfied: numpy>=1.6 in /usr/local/lib/python3.7/dist-packages (from konlpy) (1.19.5)\n",
            "Requirement already satisfied: lxml>=4.1.0 in /usr/local/lib/python3.7/dist-packages (from konlpy) (4.2.6)\n",
            "Requirement already satisfied: JPype1>=0.7.0 in /usr/local/lib/python3.7/dist-packages (from konlpy) (1.3.0)\n",
            "Requirement already satisfied: typing-extensions in /usr/local/lib/python3.7/dist-packages (from JPype1>=0.7.0->konlpy) (3.10.0.2)\n"
          ]
        }
      ],
      "source": [
        "!pip install konlpy"
      ]
    },
    {
      "cell_type": "code",
      "source": [
        "!sudo apt-get install -y fonts-nanum #코랩 한글 폰트 꺠짐 방지 폰트 설치\n",
        "!sudo fc-cache -fv\n",
        "!rm ~/.cache/matplotlib -rf"
      ],
      "metadata": {
        "colab": {
          "base_uri": "https://localhost:8080/"
        },
        "id": "nmRAxQHtjpjq",
        "outputId": "9fc2f3d1-8e9d-4e20-a746-a0f7aeeb8f0f"
      },
      "execution_count": 3,
      "outputs": [
        {
          "output_type": "stream",
          "name": "stdout",
          "text": [
            "Reading package lists... Done\n",
            "Building dependency tree       \n",
            "Reading state information... Done\n",
            "fonts-nanum is already the newest version (20170925-1).\n",
            "0 upgraded, 0 newly installed, 0 to remove and 37 not upgraded.\n",
            "/usr/share/fonts: caching, new cache contents: 0 fonts, 1 dirs\n",
            "/usr/share/fonts/truetype: caching, new cache contents: 0 fonts, 3 dirs\n",
            "/usr/share/fonts/truetype/humor-sans: caching, new cache contents: 1 fonts, 0 dirs\n",
            "/usr/share/fonts/truetype/liberation: caching, new cache contents: 16 fonts, 0 dirs\n",
            "/usr/share/fonts/truetype/nanum: caching, new cache contents: 10 fonts, 0 dirs\n",
            "/usr/local/share/fonts: caching, new cache contents: 0 fonts, 0 dirs\n",
            "/root/.local/share/fonts: skipping, no such directory\n",
            "/root/.fonts: skipping, no such directory\n",
            "/var/cache/fontconfig: cleaning cache directory\n",
            "/root/.cache/fontconfig: not cleaning non-existent cache directory\n",
            "/root/.fontconfig: not cleaning non-existent cache directory\n",
            "fc-cache: succeeded\n"
          ]
        }
      ]
    },
    {
      "cell_type": "code",
      "execution_count": 4,
      "metadata": {
        "id": "5PNv4yE3Xytt"
      },
      "outputs": [],
      "source": [
        "import pandas as pd\n",
        "import numpy as np\n",
        "import matplotlib.pyplot as plt\n",
        "import os\n",
        "import re\n",
        "from konlpy.tag import Okt\n",
        "from konlpy.tag import Komoran\n",
        "from konlpy.tag import Kkma\n",
        "from sklearn.metrics import precision_recall_curve\n",
        "from sklearn.metrics import f1_score"
      ]
    },
    {
      "cell_type": "code",
      "execution_count": 5,
      "metadata": {
        "colab": {
          "base_uri": "https://localhost:8080/"
        },
        "id": "mH9O-5jYYU_N",
        "outputId": "062fc6fb-ab99-43e4-9664-3a333e2da22f"
      },
      "outputs": [
        {
          "output_type": "stream",
          "name": "stdout",
          "text": [
            "========== files ============\n",
            "\n",
            "data/dataset\n",
            "\n",
            "=============================\n"
          ]
        }
      ],
      "source": [
        "from gdrivedataset import loader\n",
        "file_id = '1IbyL1762M0Lgoq7_qm2RaXfl3ney0e9i'\n",
        "loader.load_from_google_drive(file_id)\n",
        "DATA_DIR = 'data/dataset'"
      ]
    },
    {
      "cell_type": "code",
      "execution_count": 6,
      "metadata": {
        "colab": {
          "base_uri": "https://localhost:8080/"
        },
        "id": "1SyPSXumXytx",
        "outputId": "04af9b36-322c-4a75-ca57-f6ed14567ce4"
      },
      "outputs": [
        {
          "output_type": "stream",
          "name": "stdout",
          "text": [
            "<class 'pandas.core.frame.DataFrame'>\n",
            "RangeIndex: 5000 entries, 0 to 4999\n",
            "Data columns (total 3 columns):\n",
            " #   Column    Non-Null Count  Dtype \n",
            "---  ------    --------------  ----- \n",
            " 0   id        5000 non-null   int64 \n",
            " 1   document  5000 non-null   object\n",
            " 2   label     5000 non-null   int64 \n",
            "dtypes: int64(2), object(1)\n",
            "memory usage: 117.3+ KB\n"
          ]
        }
      ],
      "source": [
        "train = pd.read_csv(os.path.join(DATA_DIR, 'train.csv'))\n",
        "test = pd.read_csv(os.path.join(DATA_DIR, 'test.csv'))\n",
        "train.info()"
      ]
    },
    {
      "cell_type": "code",
      "execution_count": 7,
      "metadata": {
        "colab": {
          "base_uri": "https://localhost:8080/",
          "height": 206
        },
        "id": "hI8vkvWLXytz",
        "outputId": "4e98bab1-687e-480c-a028-51ac48becb32"
      },
      "outputs": [
        {
          "output_type": "execute_result",
          "data": {
            "text/html": [
              "\n",
              "  <div id=\"df-c6409060-6704-466c-a5b9-cb91949dbbc0\">\n",
              "    <div class=\"colab-df-container\">\n",
              "      <div>\n",
              "<style scoped>\n",
              "    .dataframe tbody tr th:only-of-type {\n",
              "        vertical-align: middle;\n",
              "    }\n",
              "\n",
              "    .dataframe tbody tr th {\n",
              "        vertical-align: top;\n",
              "    }\n",
              "\n",
              "    .dataframe thead th {\n",
              "        text-align: right;\n",
              "    }\n",
              "</style>\n",
              "<table border=\"1\" class=\"dataframe\">\n",
              "  <thead>\n",
              "    <tr style=\"text-align: right;\">\n",
              "      <th></th>\n",
              "      <th>id</th>\n",
              "      <th>document</th>\n",
              "      <th>label</th>\n",
              "    </tr>\n",
              "  </thead>\n",
              "  <tbody>\n",
              "    <tr>\n",
              "      <th>0</th>\n",
              "      <td>1</td>\n",
              "      <td>영상이나 음악이 이쁘다 해도 미화시킨 불륜일뿐</td>\n",
              "      <td>0</td>\n",
              "    </tr>\n",
              "    <tr>\n",
              "      <th>1</th>\n",
              "      <td>2</td>\n",
              "      <td>히치콕이 이 영화를 봤다면 분명 박수를 쳤을듯...</td>\n",
              "      <td>1</td>\n",
              "    </tr>\n",
              "    <tr>\n",
              "      <th>2</th>\n",
              "      <td>3</td>\n",
              "      <td>괜찮은 음악영화가 또 나왔군요!!! 따뜻한 겨울이 될 것 같아요~</td>\n",
              "      <td>1</td>\n",
              "    </tr>\n",
              "    <tr>\n",
              "      <th>3</th>\n",
              "      <td>4</td>\n",
              "      <td>아무래도 20년도지난작품이라 지금보기는너무유치하다</td>\n",
              "      <td>0</td>\n",
              "    </tr>\n",
              "    <tr>\n",
              "      <th>4</th>\n",
              "      <td>5</td>\n",
              "      <td>지금까지의 영화들이 그랬듯. 이 영화역시 일본에 대한 미화는 여전하다.</td>\n",
              "      <td>0</td>\n",
              "    </tr>\n",
              "  </tbody>\n",
              "</table>\n",
              "</div>\n",
              "      <button class=\"colab-df-convert\" onclick=\"convertToInteractive('df-c6409060-6704-466c-a5b9-cb91949dbbc0')\"\n",
              "              title=\"Convert this dataframe to an interactive table.\"\n",
              "              style=\"display:none;\">\n",
              "        \n",
              "  <svg xmlns=\"http://www.w3.org/2000/svg\" height=\"24px\"viewBox=\"0 0 24 24\"\n",
              "       width=\"24px\">\n",
              "    <path d=\"M0 0h24v24H0V0z\" fill=\"none\"/>\n",
              "    <path d=\"M18.56 5.44l.94 2.06.94-2.06 2.06-.94-2.06-.94-.94-2.06-.94 2.06-2.06.94zm-11 1L8.5 8.5l.94-2.06 2.06-.94-2.06-.94L8.5 2.5l-.94 2.06-2.06.94zm10 10l.94 2.06.94-2.06 2.06-.94-2.06-.94-.94-2.06-.94 2.06-2.06.94z\"/><path d=\"M17.41 7.96l-1.37-1.37c-.4-.4-.92-.59-1.43-.59-.52 0-1.04.2-1.43.59L10.3 9.45l-7.72 7.72c-.78.78-.78 2.05 0 2.83L4 21.41c.39.39.9.59 1.41.59.51 0 1.02-.2 1.41-.59l7.78-7.78 2.81-2.81c.8-.78.8-2.07 0-2.86zM5.41 20L4 18.59l7.72-7.72 1.47 1.35L5.41 20z\"/>\n",
              "  </svg>\n",
              "      </button>\n",
              "      \n",
              "  <style>\n",
              "    .colab-df-container {\n",
              "      display:flex;\n",
              "      flex-wrap:wrap;\n",
              "      gap: 12px;\n",
              "    }\n",
              "\n",
              "    .colab-df-convert {\n",
              "      background-color: #E8F0FE;\n",
              "      border: none;\n",
              "      border-radius: 50%;\n",
              "      cursor: pointer;\n",
              "      display: none;\n",
              "      fill: #1967D2;\n",
              "      height: 32px;\n",
              "      padding: 0 0 0 0;\n",
              "      width: 32px;\n",
              "    }\n",
              "\n",
              "    .colab-df-convert:hover {\n",
              "      background-color: #E2EBFA;\n",
              "      box-shadow: 0px 1px 2px rgba(60, 64, 67, 0.3), 0px 1px 3px 1px rgba(60, 64, 67, 0.15);\n",
              "      fill: #174EA6;\n",
              "    }\n",
              "\n",
              "    [theme=dark] .colab-df-convert {\n",
              "      background-color: #3B4455;\n",
              "      fill: #D2E3FC;\n",
              "    }\n",
              "\n",
              "    [theme=dark] .colab-df-convert:hover {\n",
              "      background-color: #434B5C;\n",
              "      box-shadow: 0px 1px 3px 1px rgba(0, 0, 0, 0.15);\n",
              "      filter: drop-shadow(0px 1px 2px rgba(0, 0, 0, 0.3));\n",
              "      fill: #FFFFFF;\n",
              "    }\n",
              "  </style>\n",
              "\n",
              "      <script>\n",
              "        const buttonEl =\n",
              "          document.querySelector('#df-c6409060-6704-466c-a5b9-cb91949dbbc0 button.colab-df-convert');\n",
              "        buttonEl.style.display =\n",
              "          google.colab.kernel.accessAllowed ? 'block' : 'none';\n",
              "\n",
              "        async function convertToInteractive(key) {\n",
              "          const element = document.querySelector('#df-c6409060-6704-466c-a5b9-cb91949dbbc0');\n",
              "          const dataTable =\n",
              "            await google.colab.kernel.invokeFunction('convertToInteractive',\n",
              "                                                     [key], {});\n",
              "          if (!dataTable) return;\n",
              "\n",
              "          const docLinkHtml = 'Like what you see? Visit the ' +\n",
              "            '<a target=\"_blank\" href=https://colab.research.google.com/notebooks/data_table.ipynb>data table notebook</a>'\n",
              "            + ' to learn more about interactive tables.';\n",
              "          element.innerHTML = '';\n",
              "          dataTable['output_type'] = 'display_data';\n",
              "          await google.colab.output.renderOutput(dataTable, element);\n",
              "          const docLink = document.createElement('div');\n",
              "          docLink.innerHTML = docLinkHtml;\n",
              "          element.appendChild(docLink);\n",
              "        }\n",
              "      </script>\n",
              "    </div>\n",
              "  </div>\n",
              "  "
            ],
            "text/plain": [
              "   id                                 document  label\n",
              "0   1                영상이나 음악이 이쁘다 해도 미화시킨 불륜일뿐      0\n",
              "1   2             히치콕이 이 영화를 봤다면 분명 박수를 쳤을듯...      1\n",
              "2   3     괜찮은 음악영화가 또 나왔군요!!! 따뜻한 겨울이 될 것 같아요~      1\n",
              "3   4              아무래도 20년도지난작품이라 지금보기는너무유치하다      0\n",
              "4   5  지금까지의 영화들이 그랬듯. 이 영화역시 일본에 대한 미화는 여전하다.      0"
            ]
          },
          "metadata": {},
          "execution_count": 7
        }
      ],
      "source": [
        "train.head() #데이터 형태 확인"
      ]
    },
    {
      "cell_type": "code",
      "execution_count": 8,
      "metadata": {
        "colab": {
          "base_uri": "https://localhost:8080/"
        },
        "id": "5T9RiYEcXyt0",
        "outputId": "53237d14-28d9-461d-bc3b-7ce0f9fcc663"
      },
      "outputs": [
        {
          "output_type": "execute_result",
          "data": {
            "text/plain": [
              "id          0\n",
              "document    0\n",
              "label       0\n",
              "dtype: int64"
            ]
          },
          "metadata": {},
          "execution_count": 8
        }
      ],
      "source": [
        "train.isna().sum() #결측치 확인"
      ]
    },
    {
      "cell_type": "code",
      "execution_count": 9,
      "metadata": {
        "colab": {
          "base_uri": "https://localhost:8080/",
          "height": 293
        },
        "id": "dOoVe4s_Xyt0",
        "outputId": "61aab397-629b-4ee5-8f4e-ecd965920376"
      },
      "outputs": [
        {
          "output_type": "execute_result",
          "data": {
            "text/plain": [
              "<matplotlib.axes._subplots.AxesSubplot at 0x7fb3bbb84610>"
            ]
          },
          "metadata": {},
          "execution_count": 9
        },
        {
          "output_type": "display_data",
          "data": {
            "image/png": "[encoded data removed]",
            "text/plain": [
              "<Figure size 432x288 with 1 Axes>"
            ]
          },
          "metadata": {
            "needs_background": "light"
          }
        }
      ],
      "source": [
        "#id는 필요없는 속성이므로 제거해준다.\n",
        "train = train.drop(['id'],axis=1)\n",
        "train.groupby('label').count().plot.bar()"
      ]
    },
    {
      "cell_type": "markdown",
      "metadata": {
        "id": "yJn2irxoXyt1"
      },
      "source": [
        "* 데이터의 비율이 일정하고 라벨링 또한 전부 돼있으므로 지도학습으로 접근한다.\n",
        "* 분류 문제이므로 기본적인 로지스틱 회귀를 사용하거나 SVM을 활용합니다."
      ]
    },
    {
      "cell_type": "code",
      "source": [
        "document = train['document'].str.replace('[^a-z|A-Z|ㄱ-ㅎ|가-힣|]','', regex=True)"
      ],
      "metadata": {
        "id": "ie2gYOwLW7f1"
      },
      "execution_count": 10,
      "outputs": []
    },
    {
      "cell_type": "code",
      "source": [
        "#특수문자,불용어제거, 토큰화를 실행한다.\n",
        "stop_words = ['의','가','이','은','들','는','걍','과','들','걍','과','으로','도','을','를','으로','자','에','와','한','하다','에서','에게'] #한글자로 구성된 토큰도 삭제해준다.\n",
        "ok = Okt() #토크나이징을 실시한다.\n",
        "kk = Kkma()\n",
        "token_list = []\n",
        "for sentence in document:\n",
        "  token = ok.morphs(sentence,stem=True)\n",
        "  if len(token) < 2: #못자르는 경우 kkma로 별도로 한번더 잘라줬습니다.\n",
        "    token = kk.morphs(sentence)\n",
        "    print(token)\n",
        "  token = [t for t in token if t not in stop_words]\n",
        "  if token: #텅빈 문장일 경우 추가하지 않습니다.\n",
        "    token_list.append(token)"
      ],
      "metadata": {
        "id": "aP2LCcgsgV3L",
        "colab": {
          "base_uri": "https://localhost:8080/"
        },
        "outputId": "d2f5aa65-5713-4ddc-c771-baaa9cd17345"
      },
      "execution_count": 11,
      "outputs": [
        {
          "output_type": "stream",
          "name": "stdout",
          "text": [
            "['veryveryverygood']\n",
            "['revengeissweet']\n",
            "['ItgetsbetterandbetterasitgoesonD']\n",
            "['UnderworldAwakening']\n",
            "['divorceDIVORCE']\n",
            "['MirandaCosgroveABEST']\n",
            "['수작']\n",
            "['Itsastrangefilmisntit']\n",
            "['대단', '하', '어요']\n",
            "['producedbeChristopherNolan']\n",
            "['Thuthisoutthere']\n",
            "['굳']\n",
            "['Nocomparisonsuperb']\n"
          ]
        }
      ]
    },
    {
      "cell_type": "code",
      "source": [
        "tokens = pd.Series(token_list) #인덱싱을 위해 시리즈로 변환합니다.\n",
        "tokens[:10]"
      ],
      "metadata": {
        "colab": {
          "base_uri": "https://localhost:8080/"
        },
        "id": "DyoWr9uMYeF_",
        "outputId": "cf36fe80-69c5-4016-9009-116c834f8587"
      },
      "execution_count": 12,
      "outputs": [
        {
          "output_type": "execute_result",
          "data": {
            "text/plain": [
              "0            [영상, 이나, 음악, 이쁘다, 도미, 화, 시키다, 불륜, 일, 뿐]\n",
              "1                         [히치콕, 이영화, 보다, 분명, 박수, 치다]\n",
              "2            [괜찮다, 음악, 영화, 또, 나오다, 따뜻하다, 겨울, 되다, 같다]\n",
              "3           [아무래도, 년도, 지난, 작품, 이라, 지금, 보기, 너무, 유치하다]\n",
              "4     [지금, 까지의, 영화, 그렇다, 영화, 역시, 일본, 대, 한미, 화, 여전하다]\n",
              "5    [내, 인생, 있다, 손, 끄다, 락, 꼽히다, 영화, 원작, 능가, 리메이크, 작]\n",
              "6                 [성룡, 영화, 중, 최악, 차라리, 러시아워, 훨씬, 나다]\n",
              "7               [마음, 성숙하다, 보다, 다르다, 보이다, 영화, 걸작, 이다]\n",
              "8                               [가슴, 찡하다, 기억, 남, 영화]\n",
              "9                    [결말, 기분, 나쁘다, 공포, 매니아, 이따위, 결말]\n",
              "dtype: object"
            ]
          },
          "metadata": {},
          "execution_count": 12
        }
      ]
    },
    {
      "cell_type": "code",
      "source": [
        "freqeuncies = pd.Series(np.concatenate([w for w in token_list])).value_counts()\n",
        "freqeuncies"
      ],
      "metadata": {
        "colab": {
          "base_uri": "https://localhost:8080/"
        },
        "id": "Vd_E7E7GZN03",
        "outputId": "e9377ea3-b2bf-4a43-a006-168a975d4837"
      },
      "execution_count": 13,
      "outputs": [
        {
          "output_type": "execute_result",
          "data": {
            "text/plain": [
              "영화        1353\n",
              "보다        1098\n",
              "없다         450\n",
              "이다         375\n",
              "좋다         355\n",
              "          ... \n",
              "쩔뚝           1\n",
              "롱롱롱          1\n",
              "레지던트이블       1\n",
              "바이크          1\n",
              "차이다          1\n",
              "Length: 7168, dtype: int64"
            ]
          },
          "metadata": {},
          "execution_count": 13
        }
      ]
    },
    {
      "cell_type": "code",
      "source": [
        "def get_freq_count(tokens):\n",
        "  pos_token = tokens[train['label'] == 1]\n",
        "  neg_token = tokens[train['label'] == 0]\n",
        "  pos_freq = pd.Series(np.concatenate([w for w in pos_token])).value_counts()\n",
        "  neg_freq = pd.Series(np.concatenate([w for w in neg_token])).value_counts()\n",
        "  return pos_freq, neg_freq\n",
        "\n",
        "def remove_doubled_words(pos_freq, neg_freq, tokens):\n",
        "  #긍정,부정에서 모두 사용되는 단어는 의미 없는 단어이므로 제거해줍니다.\n",
        "  top_50_pos = pos_freq[:20]\n",
        "  top_50_neg = neg_freq[:20]\n",
        "  remove_words = [p for p in top_50_pos.index if p in top_50_neg.index]\n",
        "  tokens_removed = remove_stop_words(tokens, remove_words)\n",
        "  final_tokens = cleaning_tokens(tokens_removed)\n",
        "  return final_tokens\n",
        "\n",
        "def draw_top_hist(data,name,color): #히스토그램을 그려줍니다.\n",
        "  top_10 = data[:10]\n",
        "  plt.figure(figsize=(12,7.5))\n",
        "  plt.rc('font', family='NanumBarunGothic') \n",
        "  plt.suptitle(\"Bar Plot\", fontsize=30)\n",
        "  plt.title(name, fontsize=15)\n",
        "  plt.bar(top_10.index,top_10.values, width=0.5, color= color, alpha=0.5)\n",
        "  plt.tight_layout(rect=[0, 0.03, 1, 0.95])\n",
        "  plt.show()"
      ],
      "metadata": {
        "id": "RsCBJmcmeeso"
      },
      "execution_count": 14,
      "outputs": []
    },
    {
      "cell_type": "code",
      "source": [
        "pos_freq, neg_freq = get_freq_count(tokens)"
      ],
      "metadata": {
        "id": "LPkYug-8-_4E"
      },
      "execution_count": 15,
      "outputs": []
    },
    {
      "cell_type": "code",
      "source": [
        "draw_top_hist(freqeuncies,'total reviews','g')"
      ],
      "metadata": {
        "colab": {
          "base_uri": "https://localhost:8080/",
          "height": 533
        },
        "id": "0Q6D2R3-q3cm",
        "outputId": "5f9c62c6-d4c2-4fbf-a857-09c1438ad9be"
      },
      "execution_count": 16,
      "outputs": [
        {
          "output_type": "display_data",
          "data": {
            "image/png": "[encoded data removed]",
            "text/plain": [
              "<Figure size 864x540 with 1 Axes>"
            ]
          },
          "metadata": {
            "needs_background": "light"
          }
        }
      ]
    },
    {
      "cell_type": "code",
      "source": [
        "draw_top_hist(pos_freq,'pos reviews','r')"
      ],
      "metadata": {
        "colab": {
          "base_uri": "https://localhost:8080/",
          "height": 533
        },
        "id": "TB0Zx3XEqzqC",
        "outputId": "8a0f5142-0f27-4887-afb2-038ff22444e9"
      },
      "execution_count": 17,
      "outputs": [
        {
          "output_type": "display_data",
          "data": {
            "image/png": "[encoded data removed]",
            "text/plain": [
              "<Figure size 864x540 with 1 Axes>"
            ]
          },
          "metadata": {
            "needs_background": "light"
          }
        }
      ]
    },
    {
      "cell_type": "code",
      "source": [
        "draw_top_hist(neg_freq,'Neg reviews','b')"
      ],
      "metadata": {
        "colab": {
          "base_uri": "https://localhost:8080/",
          "height": 533
        },
        "id": "ajSJnhoikG5a",
        "outputId": "180905fb-2ee3-49ec-bdd3-b964ef00746e"
      },
      "execution_count": 18,
      "outputs": [
        {
          "output_type": "display_data",
          "data": {
            "image/png": "[encoded data removed]",
            "text/plain": [
              "<Figure size 864x540 with 1 Axes>"
            ]
          },
          "metadata": {
            "needs_background": "light"
          }
        }
      ]
    },
    {
      "cell_type": "markdown",
      "source": [
        "겹치는 조사가 생각보다 많으니. 상위 10위에 공동으로 존재하는 토큰들은 전부 제거해줍시다."
      ],
      "metadata": {
        "id": "DrTeQS2cpgag"
      }
    },
    {
      "cell_type": "code",
      "source": [
        "top_50_pos = pos_freq[:10]\n",
        "top_50_neg = neg_freq[:10]\n",
        "common_words = [p for p in top_50_pos.index if p in top_50_neg.index]\n",
        "common_words"
      ],
      "metadata": {
        "colab": {
          "base_uri": "https://localhost:8080/"
        },
        "id": "on3H6UHfpoX-",
        "outputId": "e23da3cc-c8ad-4275-ed9b-927fa46d47c3"
      },
      "execution_count": 19,
      "outputs": [
        {
          "output_type": "execute_result",
          "data": {
            "text/plain": [
              "['영화', '보다', '이다', '너무']"
            ]
          },
          "metadata": {},
          "execution_count": 19
        }
      ]
    },
    {
      "cell_type": "code",
      "source": [
        "total = freqeuncies.sum()\n",
        "common_words_cnt = freqeuncies[common_words].sum()\n",
        "print(f'total words count: {total} removed: {common_words_cnt} ratio: {common_words_cnt / total :.2f}')"
      ],
      "metadata": {
        "colab": {
          "base_uri": "https://localhost:8080/"
        },
        "id": "20JBIfJtr81G",
        "outputId": "cfc8b0f9-017e-4101-bc87-6ca4df92fae0"
      },
      "execution_count": 20,
      "outputs": [
        {
          "output_type": "stream",
          "name": "stdout",
          "text": [
            "total words count: 40506 removed: 3174 ratio: 0.08\n"
          ]
        }
      ]
    },
    {
      "cell_type": "markdown",
      "source": [
        "4만개의 사용횟수 중 8%정도의 빈도수가 겹치는 공통어였습니다. 이제 공통어들을 불용어로 처리해 제거해 줍니다."
      ],
      "metadata": {
        "id": "SK-3r1LYc0a4"
      }
    },
    {
      "cell_type": "code",
      "source": [
        "clean_token_list = []\n",
        "for token in tokens:\n",
        "  clean_token = list(filter(lambda x: x not in common_words,token))\n",
        "  clean_token_list.append(clean_token)"
      ],
      "metadata": {
        "id": "VHutCw_Us5jj"
      },
      "execution_count": 21,
      "outputs": []
    },
    {
      "cell_type": "code",
      "source": [
        "clean_tokens = pd.Series(clean_token_list)\n",
        "clean_tokens[:10]"
      ],
      "metadata": {
        "colab": {
          "base_uri": "https://localhost:8080/"
        },
        "id": "KuOK3XKFejCU",
        "outputId": "aedd88ce-37ad-49c5-f913-2b0945779bba"
      },
      "execution_count": 22,
      "outputs": [
        {
          "output_type": "execute_result",
          "data": {
            "text/plain": [
              "0        [영상, 이나, 음악, 이쁘다, 도미, 화, 시키다, 불륜, 일, 뿐]\n",
              "1                         [히치콕, 이영화, 분명, 박수, 치다]\n",
              "2            [괜찮다, 음악, 또, 나오다, 따뜻하다, 겨울, 되다, 같다]\n",
              "3           [아무래도, 년도, 지난, 작품, 이라, 지금, 보기, 유치하다]\n",
              "4         [지금, 까지의, 그렇다, 역시, 일본, 대, 한미, 화, 여전하다]\n",
              "5    [내, 인생, 있다, 손, 끄다, 락, 꼽히다, 원작, 능가, 리메이크, 작]\n",
              "6                 [성룡, 중, 최악, 차라리, 러시아워, 훨씬, 나다]\n",
              "7                       [마음, 성숙하다, 다르다, 보이다, 걸작]\n",
              "8                               [가슴, 찡하다, 기억, 남]\n",
              "9                [결말, 기분, 나쁘다, 공포, 매니아, 이따위, 결말]\n",
              "dtype: object"
            ]
          },
          "metadata": {},
          "execution_count": 22
        }
      ]
    },
    {
      "cell_type": "markdown",
      "source": [
        "다시 긍,부정에서 많이 쓰이는 토큰 데이터를 확인해보자."
      ],
      "metadata": {
        "id": "Y3pWZClEFL_T"
      }
    },
    {
      "cell_type": "code",
      "source": [
        "pos_freq,neg_freq = get_freq_count(clean_tokens)"
      ],
      "metadata": {
        "id": "N6YasIYYFQtM"
      },
      "execution_count": 23,
      "outputs": []
    },
    {
      "cell_type": "code",
      "source": [
        "draw_top_hist(pos_freq,'pos reviews','r') #다시 그린 긍정리뷰 빈도수 히스토그램"
      ],
      "metadata": {
        "colab": {
          "base_uri": "https://localhost:8080/",
          "height": 533
        },
        "id": "zkVcNuLQFajr",
        "outputId": "05aa7548-8f85-4a03-d37a-184e74330933"
      },
      "execution_count": 24,
      "outputs": [
        {
          "output_type": "display_data",
          "data": {
            "image/png": "[encoded data removed]",
            "text/plain": [
              "<Figure size 864x540 with 1 Axes>"
            ]
          },
          "metadata": {
            "needs_background": "light"
          }
        }
      ]
    },
    {
      "cell_type": "code",
      "source": [
        "draw_top_hist(neg_freq,'neg reviews','b') #다시 그린 긍정리뷰 빈도수 히스토그램"
      ],
      "metadata": {
        "colab": {
          "base_uri": "https://localhost:8080/",
          "height": 533
        },
        "id": "-ItYat_THCrS",
        "outputId": "5eed2e28-76b0-489f-992f-66fe306b3416"
      },
      "execution_count": 25,
      "outputs": [
        {
          "output_type": "display_data",
          "data": {
            "image/png": "[encoded data removed]",
            "text/plain": [
              "<Figure size 864x540 with 1 Axes>"
            ]
          },
          "metadata": {
            "needs_background": "light"
          }
        }
      ]
    },
    {
      "cell_type": "markdown",
      "source": [
        "* 공통으로 많이 사용하는 단어들을 제외하고 나니 부정과 긍정에서 사용하는 단어의 차이를 확인 할 수 있었습니다. 이제 벡터화를 진행해 봅시다. \n",
        "* 하지만 이전에 단어의 수에 대한 고민을 좀 해봅시다.\n"
      ],
      "metadata": {
        "id": "GY34dsuDdIKd"
      }
    },
    {
      "cell_type": "code",
      "source": [
        "print(f\"Words kinds: {len(freqeuncies)}\")"
      ],
      "metadata": {
        "colab": {
          "base_uri": "https://localhost:8080/"
        },
        "id": "NnLi7ePIgDCC",
        "outputId": "db43a7fd-0ec6-4218-999f-29da63cf3189"
      },
      "execution_count": 26,
      "outputs": [
        {
          "output_type": "stream",
          "name": "stdout",
          "text": [
            "Words kinds: 7168\n"
          ]
        }
      ]
    },
    {
      "cell_type": "markdown",
      "source": [
        "* 단어의 사용 횟수는 4만번이고  7000개 정도의 단어를 사용하고 있습니다\n",
        "* 정말 모든 단어를 사용해야만 할까요?\n"
      ],
      "metadata": {
        "id": "6pmY9XiMPNmK"
      }
    },
    {
      "cell_type": "code",
      "source": [
        "clean_frequencies = pd.Series(np.concatenate([w for w in clean_tokens])).value_counts()\n",
        "accumulate_words = np.add.accumulate(clean_frequencies) #빈도수의 누적합을 구해줍니다.\n",
        "ratio = 0.99\n",
        "words_cnt = np.where(accumulate_words > sum(clean_frequencies) * 0.99)[0][0]\n",
        "plt.figure(figsize=(12,8))\n",
        "plt.bar(range(0,len(clean_frequencies)), accumulate_words / sum(clean_frequencies), width=1.0) #전체 단어와 현재까지의 빈도수의 비율을 구해줍니다.\n",
        "plt.title('Words distribuition')\n",
        "plt.suptitle(f'{words_cnt} words explain {ratio * 100:.1f}% of total words dirtribution')"
      ],
      "metadata": {
        "colab": {
          "base_uri": "https://localhost:8080/",
          "height": 557
        },
        "id": "s0WY9sFd834h",
        "outputId": "64b04bbf-6600-44a9-fbe8-240ce60743bb"
      },
      "execution_count": 27,
      "outputs": [
        {
          "output_type": "execute_result",
          "data": {
            "text/plain": [
              "Text(0.5, 0.98, '6790 words explain 99.0% of total words dirtribution')"
            ]
          },
          "metadata": {},
          "execution_count": 27
        },
        {
          "output_type": "display_data",
          "data": {
            "image/png": "[encoded data removed]",
            "text/plain": [
              "<Figure size 864x576 with 1 Axes>"
            ]
          },
          "metadata": {
            "needs_background": "light"
          }
        }
      ]
    },
    {
      "cell_type": "markdown",
      "source": [
        "* 99%의 빈도수를 설명하려면 6790개의 단어가 필요하다는 것을 확인했습니다. \n",
        "* 애초에 존재하던 단어의 수가 7000개 이므로 실상 차이가 나질 않습니다.\n",
        "* 이제 왜 이런 결과과 나왔는지 단어 분포를 살펴봅시다.\n"
      ],
      "metadata": {
        "id": "I2DCmsiDPXmw"
      }
    },
    {
      "cell_type": "code",
      "source": [
        "words_distribution = clean_frequencies.value_counts()\n",
        "plt.figure(figsize=(12,8))\n",
        "plt.plot(range(0,len(words_distribution)), words_distribution.values)\n",
        "plt.ylabel(\"해당 빈도수를 갖는 단어의 수\")\n",
        "plt.xlabel(\"단어의 등장 빈도 수\")\n",
        "plt.title(\"등장 빈도수에 따른 단어의 분포\")\n",
        "plt.legend()"
      ],
      "metadata": {
        "colab": {
          "base_uri": "https://localhost:8080/",
          "height": 546
        },
        "id": "9dFaQ6KBkUTd",
        "outputId": "a6bac09a-c7fa-41e9-f4d3-98cb9f016a59"
      },
      "execution_count": 28,
      "outputs": [
        {
          "output_type": "stream",
          "name": "stderr",
          "text": [
            "No handles with labels found to put in legend.\n"
          ]
        },
        {
          "output_type": "execute_result",
          "data": {
            "text/plain": [
              "<matplotlib.legend.Legend at 0x7fb38cb8c550>"
            ]
          },
          "metadata": {},
          "execution_count": 28
        },
        {
          "output_type": "display_data",
          "data": {
            "image/png": "[encoded data removed]",
            "text/plain": [
              "<Figure size 864x576 with 1 Axes>"
            ]
          },
          "metadata": {
            "needs_background": "light"
          }
        }
      ]
    },
    {
      "cell_type": "markdown",
      "source": [
        "* 그래프를 살펴보면 빈도수가 높아질 수록 해당하는 단어의 수도 줄어든다는 것을 확인할 수 있습니다. \n",
        "* 빈도수가 낮은 단어의 수가 압도적으로 많으므로 단어 전체 분포를 설명하기 위해선 많은 단어가 필요합니다."
      ],
      "metadata": {
        "id": "Bf1zHUdllww4"
      }
    },
    {
      "cell_type": "code",
      "execution_count": 29,
      "metadata": {
        "id": "d_oD1kwXrsYI"
      },
      "outputs": [],
      "source": [
        "#tfidf를 활용해 벡터화를 진행합니다.\n",
        "from sklearn.feature_extraction.text import TfidfVectorizer\n",
        "from sklearn.linear_model import LogisticRegression\n",
        "from sklearn.model_selection import train_test_split"
      ]
    },
    {
      "cell_type": "code",
      "source": [
        "X = clean_tokens.apply(''.join) #벡터화를 위해서 배열을 문자열로 합쳐줍니다.\n",
        "y = train['label']\n",
        "X_train, X_eval, y_train, y_eval = train_test_split(X, y, test_size=0.2, random_state=2) #학습 데이터와 검증 데이터를 분리합니다."
      ],
      "metadata": {
        "id": "Cys2sL2ennSN"
      },
      "execution_count": 30,
      "outputs": []
    },
    {
      "cell_type": "code",
      "source": [
        "#최적의 파라미터를 찾습니다.\n",
        "best_max_feature = 0\n",
        "best_cost = 0\n",
        "best_f1 = 0\n",
        "for i in range(100, 5000, 100): #max feature 값을 이동시키며 최적값을 찾습니다.\n",
        "  vectorizer = TfidfVectorizer(analyzer='char',sublinear_tf=True,ngram_range=(1,3),max_features=i) \n",
        "  X_train_vector = vectorizer.fit_transform(X_train)\n",
        "  X_eval_vector = vectorizer.transform(X_eval)\n",
        "  for c in [0.01,0.03,0.1,0.3,1,3,10]: #cost 값을 이동시키며 최적 값을 찾습니다.\n",
        "      lgs = LogisticRegression(class_weight = 'balanced', max_iter=2000, C = c)\n",
        "      lgs.fit(X_train_vector, y_train)\n",
        "      yhat = lgs.predict_proba(X_eval_vector)\n",
        "      predicted = lgs.predict(X_eval_vector)\n",
        "      f1 = f1_score(y_eval, predicted)\n",
        "      accuracy = sum(predicted == y_eval) / len(predicted)\n",
        "      if best_f1 < f1:\n",
        "        print(f\"Accuracy: {accuracy} f1-score: {f1}, max-features:{i}\")\n",
        "        best_max_feature = i\n",
        "        best_cost = c\n",
        "        best_f1 = f1"
      ],
      "metadata": {
        "colab": {
          "base_uri": "https://localhost:8080/"
        },
        "id": "fO4p7s1Xpb0s",
        "outputId": "fd0b0a05-b715-427b-e73e-ff03cca843d3"
      },
      "execution_count": 31,
      "outputs": [
        {
          "output_type": "stream",
          "name": "stdout",
          "text": [
            "Accuracy: 0.692 f1-score: 0.6757894736842105, max-features:100\n",
            "Accuracy: 0.699 f1-score: 0.687435098650052, max-features:100\n",
            "Accuracy: 0.703 f1-score: 0.6966292134831461, max-features:100\n",
            "Accuracy: 0.709 f1-score: 0.7039674465920651, max-features:100\n",
            "Accuracy: 0.718 f1-score: 0.7134146341463414, max-features:100\n",
            "Accuracy: 0.715 f1-score: 0.7147147147147147, max-features:100\n",
            "Accuracy: 0.733 f1-score: 0.7289340101522843, max-features:200\n",
            "Accuracy: 0.752 f1-score: 0.751503006012024, max-features:200\n",
            "Accuracy: 0.761 f1-score: 0.7621890547263682, max-features:200\n",
            "Accuracy: 0.766 f1-score: 0.7669322709163346, max-features:200\n",
            "Accuracy: 0.77 f1-score: 0.7722772277227722, max-features:300\n",
            "Accuracy: 0.778 f1-score: 0.7810650887573964, max-features:300\n",
            "Accuracy: 0.777 f1-score: 0.7828627069133398, max-features:300\n",
            "Accuracy: 0.788 f1-score: 0.7905138339920947, max-features:400\n",
            "Accuracy: 0.796 f1-score: 0.799607072691552, max-features:400\n",
            "Accuracy: 0.798 f1-score: 0.802348336594912, max-features:400\n",
            "Accuracy: 0.801 f1-score: 0.8043264503441493, max-features:500\n",
            "Accuracy: 0.815 f1-score: 0.8188050930460333, max-features:500\n",
            "Accuracy: 0.821 f1-score: 0.8246816846229188, max-features:500\n",
            "Accuracy: 0.824 f1-score: 0.8277886497064579, max-features:600\n",
            "Accuracy: 0.83 f1-score: 0.833984375, max-features:700\n",
            "Accuracy: 0.835 f1-score: 0.8387096774193549, max-features:800\n",
            "Accuracy: 0.835 f1-score: 0.8393378773125609, max-features:800\n",
            "Accuracy: 0.836 f1-score: 0.8401559454191033, max-features:900\n",
            "Accuracy: 0.839 f1-score: 0.8416912487708949, max-features:900\n",
            "Accuracy: 0.84 f1-score: 0.8449612403100776, max-features:1000\n",
            "Accuracy: 0.843 f1-score: 0.846829268292683, max-features:1000\n",
            "Accuracy: 0.844 f1-score: 0.8470588235294119, max-features:1000\n",
            "Accuracy: 0.844 f1-score: 0.8482490272373542, max-features:1100\n",
            "Accuracy: 0.845 f1-score: 0.8487804878048781, max-features:1100\n",
            "Accuracy: 0.849 f1-score: 0.8521057786483839, max-features:1100\n",
            "Accuracy: 0.848 f1-score: 0.8521400778210116, max-features:1200\n",
            "Accuracy: 0.853 f1-score: 0.8565853658536584, max-features:1200\n",
            "Accuracy: 0.855 f1-score: 0.8577036310107947, max-features:1700\n",
            "Accuracy: 0.858 f1-score: 0.8605108055009824, max-features:1900\n",
            "Accuracy: 0.859 f1-score: 0.8616290480863592, max-features:2000\n",
            "Accuracy: 0.86 f1-score: 0.8619329388560157, max-features:2500\n",
            "Accuracy: 0.862 f1-score: 0.8644400785854617, max-features:2600\n",
            "Accuracy: 0.863 f1-score: 0.8668610301263361, max-features:3700\n",
            "Accuracy: 0.866 f1-score: 0.8693957115009747, max-features:4100\n",
            "Accuracy: 0.868 f1-score: 0.87109375, max-features:4200\n",
            "Accuracy: 0.869 f1-score: 0.871694417238002, max-features:4300\n"
          ]
        }
      ]
    },
    {
      "cell_type": "code",
      "source": [
        "print(f\"max_feature: {best_max_feature} cost: {best_cost} f1: {best_f1}\") #최적의 파라미터"
      ],
      "metadata": {
        "colab": {
          "base_uri": "https://localhost:8080/"
        },
        "id": "F4pfqdbEqJnv",
        "outputId": "35edfff6-624e-4a9f-a0aa-1bda639f2289"
      },
      "execution_count": 32,
      "outputs": [
        {
          "output_type": "stream",
          "name": "stdout",
          "text": [
            "max_feature: 4300 cost: 10 f1: 0.871694417238002\n"
          ]
        }
      ]
    },
    {
      "cell_type": "code",
      "source": [
        "vectorizer = TfidfVectorizer(analyzer='char',sublinear_tf = True, ngram_range=(1,3), max_features=best_max_feature) #최적의 파라미터를 기준으로 벡터화를 진행합니다.\n",
        "X_train_vector = vectorizer.fit_transform(X_train)\n",
        "X_eval_vector = vectorizer.transform(X_eval)\n",
        "lgs = LogisticRegression(class_weight = 'balanced', max_iter=2000, C = best_cost)\n",
        "lgs.fit(X_train_vector, y_train)\n",
        "yhat = lgs.predict_proba(X_eval_vector)\n",
        "yhat = yhat[:,1] #1인 경우의 확률만 구해줍니다.\n",
        "predicted = lgs.predict(X_eval_vector)\n",
        "f1 = f1_score(y_eval, predicted)\n",
        "print(f\"Accuracy: {lgs.score(X_eval_vector, y_eval)}\")\n",
        "print(f\"f1-score: {f1}\")"
      ],
      "metadata": {
        "colab": {
          "base_uri": "https://localhost:8080/"
        },
        "id": "OOEdWVvpx3Sz",
        "outputId": "c0d57a87-4083-4652-a15b-0037b3760f2f"
      },
      "execution_count": 33,
      "outputs": [
        {
          "output_type": "stream",
          "name": "stdout",
          "text": [
            "Accuracy: 0.869\n",
            "f1-score: 0.871694417238002\n"
          ]
        }
      ]
    },
    {
      "cell_type": "markdown",
      "source": [
        "* 로지스틱 회귀는 0.5를 기준으로 값을 분류합니다. \n",
        "* 하지만 이 기준을 조금 더 개선해 볼 수는 없을까요?\n",
        "* 검증셋을 활용해 최적의 threshold를 찾아봅시다."
      ],
      "metadata": {
        "id": "Nibqurpb5p-2"
      }
    },
    {
      "cell_type": "code",
      "source": [
        "precisions,recalls,thresholds = precision_recall_curve(y_eval,yhat)\n",
        "plt.figure(figsize=(12,8))\n",
        "plt.plot(recalls, precisions, marker='.', label='Logistic', color='dodgerblue')\n",
        "f1_score_list = (2 * precisions * recalls) / (precisions + recalls)\n",
        "max_index = np.argmax(f1_score_list)\n",
        "best_threshold = thresholds[max_index]\n",
        "#s는 마커의 사이즈 facecolor는 마크의 내부 색상 edgecolor는 마크의 테두리 색상을 의미\n",
        "plt.scatter(recalls[max_index],precisions[max_index],marker='o',color='black',label='best',s=200,facecolors='none',edgecolors='black')\n",
        "plt.title('F1-curve')\n",
        "plt.xlabel('Recall')\n",
        "plt.ylabel('Precision')\n",
        "plt.legend()\n",
        "print('Best Threshold=%f, F-Score=%.3f' % (best_threshold, f1_score_list[max_index]))"
      ],
      "metadata": {
        "id": "FAufJCf14mGI",
        "colab": {
          "base_uri": "https://localhost:8080/",
          "height": 528
        },
        "outputId": "8a76ed1b-e7b8-40af-c349-6bd918618ca9"
      },
      "execution_count": 34,
      "outputs": [
        {
          "output_type": "stream",
          "name": "stdout",
          "text": [
            "Best Threshold=0.501394, F-Score=0.872\n"
          ]
        },
        {
          "output_type": "display_data",
          "data": {
            "image/png": "[encoded data removed]",
            "text/plain": [
              "<Figure size 864x576 with 1 Axes>"
            ]
          },
          "metadata": {
            "needs_background": "light"
          }
        }
      ]
    },
    {
      "cell_type": "markdown",
      "source": [
        "* 이제 새로 찾은 threshold 값을 활용해 다시금 라벨링을 진행합니다."
      ],
      "metadata": {
        "id": "gF0DEZSX6_Z8"
      }
    },
    {
      "cell_type": "code",
      "source": [
        "threshold = best_threshold\n",
        "y_pred = np.where(yhat >= threshold,1,0)\n",
        "f1 = f1_score(y_eval,y_pred,average='binary')\n",
        "print(f\"f1:{f1}\")"
      ],
      "metadata": {
        "colab": {
          "base_uri": "https://localhost:8080/"
        },
        "id": "RHgSYp5Z8Qge",
        "outputId": "bf9325cd-9758-4538-b7d8-04a06c8abbd6"
      },
      "execution_count": 35,
      "outputs": [
        {
          "output_type": "stream",
          "name": "stdout",
          "text": [
            "f1:0.871694417238002\n"
          ]
        }
      ]
    },
    {
      "cell_type": "code",
      "source": [
        "X_test = test['document']\n",
        "X_test = vectorizer.transform(X_test) #test 데이터에 벡터화를 진행합니다.\n",
        "pred = lgs.predict(X_test)"
      ],
      "metadata": {
        "id": "S4H-9Kw1Imkj"
      },
      "execution_count": 38,
      "outputs": []
    },
    {
      "cell_type": "code",
      "execution_count": 39,
      "metadata": {
        "id": "3HYnacFT1kUw"
      },
      "outputs": [],
      "source": [
        "res = pd.DataFrame()\n",
        "res['id'] = test['id']\n",
        "tyhat = lgs.predict_proba(X_test)\n",
        "tyhat = tyhat[:,1] #1인 경우의 확률만 구해줍니다.\n",
        "ty_pred = np.where(tyhat >= best_threshold,1,0)\n",
        "res['label'] = ty_pred"
      ]
    },
    {
      "cell_type": "code",
      "source": [
        "res.to_csv('result.csv',index=None)"
      ],
      "metadata": {
        "id": "pF7XTI45O9tf"
      },
      "execution_count": 40,
      "outputs": []
    }
  ],
  "metadata": {
    "accelerator": "GPU",
    "colab": {
      "collapsed_sections": [],
      "name": "Jeong_week9.ipynb",
      "provenance": []
    },
    "interpreter": {
      "hash": "67a9d45133f1a9e4e6de0dcd9787e83ef7d08e0d5bdd34045d03563c32d8ac89"
    },
    "kernelspec": {
      "display_name": "Python 3.8.5 64-bit ('py_3.8': conda)",
      "language": "python",
      "name": "python3"
    },
    "language_info": {
      "codemirror_mode": {
        "name": "ipython",
        "version": 3
      },
      "file_extension": ".py",
      "mimetype": "text/x-python",
      "name": "python",
      "nbconvert_exporter": "python",
      "pygments_lexer": "ipython3",
      "version": "3.8.5"
    }
  },
  "nbformat": 4,
  "nbformat_minor": 0
}