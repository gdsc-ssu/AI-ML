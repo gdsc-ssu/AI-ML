{
  "nbformat": 4,
  "nbformat_minor": 0,
  "metadata": {
    "colab": {
      "name": "영화관데이터분석.ipynb",
      "provenance": [],
      "collapsed_sections": []
    },
    "kernelspec": {
      "name": "python3",
      "display_name": "Python 3"
    },
    "language_info": {
      "name": "python"
    }
  },
  "cells": [
    {
      "cell_type": "code",
      "execution_count": 2,
      "metadata": {
        "id": "LMVusrnssJxq"
      },
      "outputs": [],
      "source": [
        "import matplotlib.pyplot as plt\n",
        "import numpy as np\n",
        "import pandas as pd\n",
        "import seaborn as sns "
      ]
    },
    {
      "cell_type": "code",
      "source": [
        "data = pd.read_csv('AnnualTicketSales.csv')\n",
        "df = pd.DataFrame(data)"
      ],
      "metadata": {
        "id": "XPv1lZgssVPp"
      },
      "execution_count": 7,
      "outputs": []
    },
    {
      "cell_type": "code",
      "source": [
        "df"
      ],
      "metadata": {
        "colab": {
          "base_uri": "https://localhost:8080/",
          "height": 896
        },
        "id": "kj7DQKDEsVUl",
        "outputId": "76f89cc3-615f-4214-9b52-94e41c7467ea"
      },
      "execution_count": 8,
      "outputs": [
        {
          "output_type": "execute_result",
          "data": {
            "text/html": [
              "\n",
              "  <div id=\"df-63f5ed18-0c4c-499c-b5bf-a45baa3d47df\">\n",
              "    <div class=\"colab-df-container\">\n",
              "      <div>\n",
              "<style scoped>\n",
              "    .dataframe tbody tr th:only-of-type {\n",
              "        vertical-align: middle;\n",
              "    }\n",
              "\n",
              "    .dataframe tbody tr th {\n",
              "        vertical-align: top;\n",
              "    }\n",
              "\n",
              "    .dataframe thead th {\n",
              "        text-align: right;\n",
              "    }\n",
              "</style>\n",
              "<table border=\"1\" class=\"dataframe\">\n",
              "  <thead>\n",
              "    <tr style=\"text-align: right;\">\n",
              "      <th></th>\n",
              "      <th>YEAR</th>\n",
              "      <th>TICKETS SOLD</th>\n",
              "      <th>TOTAL BOX OFFICE</th>\n",
              "      <th>TOTAL INFLATION ADJUSTED BOX OFFICE</th>\n",
              "      <th>AVERAGE TICKET PRICE</th>\n",
              "      <th>Unnamed: 5</th>\n",
              "    </tr>\n",
              "  </thead>\n",
              "  <tbody>\n",
              "    <tr>\n",
              "      <th>0</th>\n",
              "      <td>2021</td>\n",
              "      <td>42,37,74,881</td>\n",
              "      <td>$3,881,777,912</td>\n",
              "      <td>$3,881,777,912</td>\n",
              "      <td>$9.16</td>\n",
              "      <td>NaN</td>\n",
              "    </tr>\n",
              "    <tr>\n",
              "      <th>1</th>\n",
              "      <td>2020</td>\n",
              "      <td>22,36,38,958</td>\n",
              "      <td>$2,048,534,616</td>\n",
              "      <td>$2,048,534,616</td>\n",
              "      <td>$9.16</td>\n",
              "      <td>NaN</td>\n",
              "    </tr>\n",
              "    <tr>\n",
              "      <th>2</th>\n",
              "      <td>2019</td>\n",
              "      <td>1,22,85,41,629</td>\n",
              "      <td>$11,253,443,955</td>\n",
              "      <td>$11,253,444,050</td>\n",
              "      <td>$9.16</td>\n",
              "      <td>NaN</td>\n",
              "    </tr>\n",
              "    <tr>\n",
              "      <th>3</th>\n",
              "      <td>2018</td>\n",
              "      <td>1,31,15,36,128</td>\n",
              "      <td>$11,948,096,650</td>\n",
              "      <td>$12,013,670,952</td>\n",
              "      <td>$9.11</td>\n",
              "      <td>NaN</td>\n",
              "    </tr>\n",
              "    <tr>\n",
              "      <th>4</th>\n",
              "      <td>2017</td>\n",
              "      <td>1,22,56,39,761</td>\n",
              "      <td>$10,993,991,460</td>\n",
              "      <td>$11,226,860,216</td>\n",
              "      <td>$8.97</td>\n",
              "      <td>NaN</td>\n",
              "    </tr>\n",
              "    <tr>\n",
              "      <th>5</th>\n",
              "      <td>2016</td>\n",
              "      <td>1,30,25,56,378</td>\n",
              "      <td>$11,267,115,924</td>\n",
              "      <td>$11,931,416,424</td>\n",
              "      <td>$8.65</td>\n",
              "      <td>NaN</td>\n",
              "    </tr>\n",
              "    <tr>\n",
              "      <th>6</th>\n",
              "      <td>2015</td>\n",
              "      <td>1,32,33,56,776</td>\n",
              "      <td>$11,155,900,636</td>\n",
              "      <td>$12,121,948,075</td>\n",
              "      <td>$8.43</td>\n",
              "      <td>NaN</td>\n",
              "    </tr>\n",
              "    <tr>\n",
              "      <th>7</th>\n",
              "      <td>2014</td>\n",
              "      <td>1,25,74,02,920</td>\n",
              "      <td>$10,272,985,008</td>\n",
              "      <td>$11,517,810,744</td>\n",
              "      <td>$8.17</td>\n",
              "      <td>NaN</td>\n",
              "    </tr>\n",
              "    <tr>\n",
              "      <th>8</th>\n",
              "      <td>2013</td>\n",
              "      <td>1,33,91,68,926</td>\n",
              "      <td>$10,887,446,341</td>\n",
              "      <td>$12,266,787,382</td>\n",
              "      <td>$8.13</td>\n",
              "      <td>NaN</td>\n",
              "    </tr>\n",
              "    <tr>\n",
              "      <th>9</th>\n",
              "      <td>2012</td>\n",
              "      <td>1,38,09,21,942</td>\n",
              "      <td>$10,992,141,616</td>\n",
              "      <td>$12,649,244,986</td>\n",
              "      <td>$7.96</td>\n",
              "      <td>NaN</td>\n",
              "    </tr>\n",
              "    <tr>\n",
              "      <th>10</th>\n",
              "      <td>2011</td>\n",
              "      <td>1,28,29,15,168</td>\n",
              "      <td>$10,173,519,704</td>\n",
              "      <td>$11,751,502,955</td>\n",
              "      <td>$7.93</td>\n",
              "      <td>NaN</td>\n",
              "    </tr>\n",
              "    <tr>\n",
              "      <th>11</th>\n",
              "      <td>2010</td>\n",
              "      <td>1,32,85,49,021</td>\n",
              "      <td>$10,482,254,025</td>\n",
              "      <td>$12,169,509,032</td>\n",
              "      <td>$7.89</td>\n",
              "      <td>NaN</td>\n",
              "    </tr>\n",
              "    <tr>\n",
              "      <th>12</th>\n",
              "      <td>2009</td>\n",
              "      <td>1,41,85,67,388</td>\n",
              "      <td>$10,639,257,284</td>\n",
              "      <td>$12,994,051,137</td>\n",
              "      <td>$7.50</td>\n",
              "      <td>NaN</td>\n",
              "    </tr>\n",
              "    <tr>\n",
              "      <th>13</th>\n",
              "      <td>2008</td>\n",
              "      <td>1,35,80,42,073</td>\n",
              "      <td>$9,750,744,148</td>\n",
              "      <td>$12,439,665,380</td>\n",
              "      <td>$7.18</td>\n",
              "      <td>NaN</td>\n",
              "    </tr>\n",
              "    <tr>\n",
              "      <th>14</th>\n",
              "      <td>2007</td>\n",
              "      <td>1,42,00,36,680</td>\n",
              "      <td>$9,769,854,914</td>\n",
              "      <td>$13,007,535,993</td>\n",
              "      <td>$6.88</td>\n",
              "      <td>NaN</td>\n",
              "    </tr>\n",
              "    <tr>\n",
              "      <th>15</th>\n",
              "      <td>2006</td>\n",
              "      <td>1,39,87,38,283</td>\n",
              "      <td>$9,161,738,221</td>\n",
              "      <td>$12,812,442,671</td>\n",
              "      <td>$6.55</td>\n",
              "      <td>NaN</td>\n",
              "    </tr>\n",
              "    <tr>\n",
              "      <th>16</th>\n",
              "      <td>2005</td>\n",
              "      <td>1,37,29,80,280</td>\n",
              "      <td>$8,800,805,718</td>\n",
              "      <td>$12,576,499,367</td>\n",
              "      <td>$6.41</td>\n",
              "      <td>NaN</td>\n",
              "    </tr>\n",
              "    <tr>\n",
              "      <th>17</th>\n",
              "      <td>2004</td>\n",
              "      <td>1,49,56,51,298</td>\n",
              "      <td>$9,287,996,519</td>\n",
              "      <td>$13,700,165,883</td>\n",
              "      <td>$6.21</td>\n",
              "      <td>NaN</td>\n",
              "    </tr>\n",
              "    <tr>\n",
              "      <th>18</th>\n",
              "      <td>2003</td>\n",
              "      <td>1,52,45,89,620</td>\n",
              "      <td>$9,193,277,289</td>\n",
              "      <td>$13,965,240,914</td>\n",
              "      <td>$6.03</td>\n",
              "      <td>NaN</td>\n",
              "    </tr>\n",
              "    <tr>\n",
              "      <th>19</th>\n",
              "      <td>2002</td>\n",
              "      <td>1,57,57,56,527</td>\n",
              "      <td>$9,155,147,215</td>\n",
              "      <td>$14,433,929,789</td>\n",
              "      <td>$5.81</td>\n",
              "      <td>NaN</td>\n",
              "    </tr>\n",
              "    <tr>\n",
              "      <th>20</th>\n",
              "      <td>2001</td>\n",
              "      <td>1,46,58,74,205</td>\n",
              "      <td>$8,296,849,636</td>\n",
              "      <td>$13,427,407,722</td>\n",
              "      <td>$5.66</td>\n",
              "      <td>NaN</td>\n",
              "    </tr>\n",
              "    <tr>\n",
              "      <th>21</th>\n",
              "      <td>2000</td>\n",
              "      <td>1,39,74,60,079</td>\n",
              "      <td>$7,532,311,479</td>\n",
              "      <td>$12,800,734,319</td>\n",
              "      <td>$5.39</td>\n",
              "      <td>NaN</td>\n",
              "    </tr>\n",
              "    <tr>\n",
              "      <th>22</th>\n",
              "      <td>1999</td>\n",
              "      <td>1,44,46,64,086</td>\n",
              "      <td>$7,338,894,852</td>\n",
              "      <td>$13,233,123,027</td>\n",
              "      <td>$5.08</td>\n",
              "      <td>NaN</td>\n",
              "    </tr>\n",
              "    <tr>\n",
              "      <th>23</th>\n",
              "      <td>1998</td>\n",
              "      <td>1,44,38,32,471</td>\n",
              "      <td>$6,771,575,283</td>\n",
              "      <td>$13,225,505,439</td>\n",
              "      <td>$4.69</td>\n",
              "      <td>NaN</td>\n",
              "    </tr>\n",
              "    <tr>\n",
              "      <th>24</th>\n",
              "      <td>1997</td>\n",
              "      <td>1,35,73,49,648</td>\n",
              "      <td>$6,230,235,770</td>\n",
              "      <td>$12,433,322,785</td>\n",
              "      <td>$4.59</td>\n",
              "      <td>NaN</td>\n",
              "    </tr>\n",
              "    <tr>\n",
              "      <th>25</th>\n",
              "      <td>1996</td>\n",
              "      <td>1,30,52,21,290</td>\n",
              "      <td>$5,769,078,886</td>\n",
              "      <td>$11,955,781,912</td>\n",
              "      <td>$4.42</td>\n",
              "      <td>NaN</td>\n",
              "    </tr>\n",
              "    <tr>\n",
              "      <th>26</th>\n",
              "      <td>1995</td>\n",
              "      <td>1,22,17,05,907</td>\n",
              "      <td>$5,314,421,390</td>\n",
              "      <td>$11,190,826,105</td>\n",
              "      <td>$4.35</td>\n",
              "      <td>NaN</td>\n",
              "    </tr>\n",
              "  </tbody>\n",
              "</table>\n",
              "</div>\n",
              "      <button class=\"colab-df-convert\" onclick=\"convertToInteractive('df-63f5ed18-0c4c-499c-b5bf-a45baa3d47df')\"\n",
              "              title=\"Convert this dataframe to an interactive table.\"\n",
              "              style=\"display:none;\">\n",
              "        \n",
              "  <svg xmlns=\"http://www.w3.org/2000/svg\" height=\"24px\"viewBox=\"0 0 24 24\"\n",
              "       width=\"24px\">\n",
              "    <path d=\"M0 0h24v24H0V0z\" fill=\"none\"/>\n",
              "    <path d=\"M18.56 5.44l.94 2.06.94-2.06 2.06-.94-2.06-.94-.94-2.06-.94 2.06-2.06.94zm-11 1L8.5 8.5l.94-2.06 2.06-.94-2.06-.94L8.5 2.5l-.94 2.06-2.06.94zm10 10l.94 2.06.94-2.06 2.06-.94-2.06-.94-.94-2.06-.94 2.06-2.06.94z\"/><path d=\"M17.41 7.96l-1.37-1.37c-.4-.4-.92-.59-1.43-.59-.52 0-1.04.2-1.43.59L10.3 9.45l-7.72 7.72c-.78.78-.78 2.05 0 2.83L4 21.41c.39.39.9.59 1.41.59.51 0 1.02-.2 1.41-.59l7.78-7.78 2.81-2.81c.8-.78.8-2.07 0-2.86zM5.41 20L4 18.59l7.72-7.72 1.47 1.35L5.41 20z\"/>\n",
              "  </svg>\n",
              "      </button>\n",
              "      \n",
              "  <style>\n",
              "    .colab-df-container {\n",
              "      display:flex;\n",
              "      flex-wrap:wrap;\n",
              "      gap: 12px;\n",
              "    }\n",
              "\n",
              "    .colab-df-convert {\n",
              "      background-color: #E8F0FE;\n",
              "      border: none;\n",
              "      border-radius: 50%;\n",
              "      cursor: pointer;\n",
              "      display: none;\n",
              "      fill: #1967D2;\n",
              "      height: 32px;\n",
              "      padding: 0 0 0 0;\n",
              "      width: 32px;\n",
              "    }\n",
              "\n",
              "    .colab-df-convert:hover {\n",
              "      background-color: #E2EBFA;\n",
              "      box-shadow: 0px 1px 2px rgba(60, 64, 67, 0.3), 0px 1px 3px 1px rgba(60, 64, 67, 0.15);\n",
              "      fill: #174EA6;\n",
              "    }\n",
              "\n",
              "    [theme=dark] .colab-df-convert {\n",
              "      background-color: #3B4455;\n",
              "      fill: #D2E3FC;\n",
              "    }\n",
              "\n",
              "    [theme=dark] .colab-df-convert:hover {\n",
              "      background-color: #434B5C;\n",
              "      box-shadow: 0px 1px 3px 1px rgba(0, 0, 0, 0.15);\n",
              "      filter: drop-shadow(0px 1px 2px rgba(0, 0, 0, 0.3));\n",
              "      fill: #FFFFFF;\n",
              "    }\n",
              "  </style>\n",
              "\n",
              "      <script>\n",
              "        const buttonEl =\n",
              "          document.querySelector('#df-63f5ed18-0c4c-499c-b5bf-a45baa3d47df button.colab-df-convert');\n",
              "        buttonEl.style.display =\n",
              "          google.colab.kernel.accessAllowed ? 'block' : 'none';\n",
              "\n",
              "        async function convertToInteractive(key) {\n",
              "          const element = document.querySelector('#df-63f5ed18-0c4c-499c-b5bf-a45baa3d47df');\n",
              "          const dataTable =\n",
              "            await google.colab.kernel.invokeFunction('convertToInteractive',\n",
              "                                                     [key], {});\n",
              "          if (!dataTable) return;\n",
              "\n",
              "          const docLinkHtml = 'Like what you see? Visit the ' +\n",
              "            '<a target=\"_blank\" href=https://colab.research.google.com/notebooks/data_table.ipynb>data table notebook</a>'\n",
              "            + ' to learn more about interactive tables.';\n",
              "          element.innerHTML = '';\n",
              "          dataTable['output_type'] = 'display_data';\n",
              "          await google.colab.output.renderOutput(dataTable, element);\n",
              "          const docLink = document.createElement('div');\n",
              "          docLink.innerHTML = docLinkHtml;\n",
              "          element.appendChild(docLink);\n",
              "        }\n",
              "      </script>\n",
              "    </div>\n",
              "  </div>\n",
              "  "
            ],
            "text/plain": [
              "    YEAR    TICKETS SOLD  ... AVERAGE TICKET PRICE Unnamed: 5\n",
              "0   2021    42,37,74,881  ...                $9.16        NaN\n",
              "1   2020    22,36,38,958  ...                $9.16        NaN\n",
              "2   2019  1,22,85,41,629  ...                $9.16        NaN\n",
              "3   2018  1,31,15,36,128  ...                $9.11        NaN\n",
              "4   2017  1,22,56,39,761  ...                $8.97        NaN\n",
              "5   2016  1,30,25,56,378  ...                $8.65        NaN\n",
              "6   2015  1,32,33,56,776  ...                $8.43        NaN\n",
              "7   2014  1,25,74,02,920  ...                $8.17        NaN\n",
              "8   2013  1,33,91,68,926  ...                $8.13        NaN\n",
              "9   2012  1,38,09,21,942  ...                $7.96        NaN\n",
              "10  2011  1,28,29,15,168  ...                $7.93        NaN\n",
              "11  2010  1,32,85,49,021  ...                $7.89        NaN\n",
              "12  2009  1,41,85,67,388  ...                $7.50        NaN\n",
              "13  2008  1,35,80,42,073  ...                $7.18        NaN\n",
              "14  2007  1,42,00,36,680  ...                $6.88        NaN\n",
              "15  2006  1,39,87,38,283  ...                $6.55        NaN\n",
              "16  2005  1,37,29,80,280  ...                $6.41        NaN\n",
              "17  2004  1,49,56,51,298  ...                $6.21        NaN\n",
              "18  2003  1,52,45,89,620  ...                $6.03        NaN\n",
              "19  2002  1,57,57,56,527  ...                $5.81        NaN\n",
              "20  2001  1,46,58,74,205  ...                $5.66        NaN\n",
              "21  2000  1,39,74,60,079  ...                $5.39        NaN\n",
              "22  1999  1,44,46,64,086  ...                $5.08        NaN\n",
              "23  1998  1,44,38,32,471  ...                $4.69        NaN\n",
              "24  1997  1,35,73,49,648  ...                $4.59        NaN\n",
              "25  1996  1,30,52,21,290  ...                $4.42        NaN\n",
              "26  1995  1,22,17,05,907  ...                $4.35        NaN\n",
              "\n",
              "[27 rows x 6 columns]"
            ]
          },
          "metadata": {},
          "execution_count": 8
        }
      ]
    },
    {
      "cell_type": "code",
      "source": [
        "df['TICKETS SOLD'] = df['TICKETS SOLD'].str.replace(',' , '')\n",
        "df['AVERAGE TICKET PRICE'] = df['AVERAGE TICKET PRICE'] .str.replace('$' , '')\n",
        "print(df['AVERAGE TICKET PRICE'])"
      ],
      "metadata": {
        "colab": {
          "base_uri": "https://localhost:8080/"
        },
        "id": "LoyGpMDdsVXZ",
        "outputId": "ddeec3e7-b7b7-4d8b-c7b6-6b98ce338363"
      },
      "execution_count": 9,
      "outputs": [
        {
          "output_type": "stream",
          "name": "stdout",
          "text": [
            "0     9.16\n",
            "1     9.16\n",
            "2     9.16\n",
            "3     9.11\n",
            "4     8.97\n",
            "5     8.65\n",
            "6     8.43\n",
            "7     8.17\n",
            "8     8.13\n",
            "9     7.96\n",
            "10    7.93\n",
            "11    7.89\n",
            "12    7.50\n",
            "13    7.18\n",
            "14    6.88\n",
            "15    6.55\n",
            "16    6.41\n",
            "17    6.21\n",
            "18    6.03\n",
            "19    5.81\n",
            "20    5.66\n",
            "21    5.39\n",
            "22    5.08\n",
            "23    4.69\n",
            "24    4.59\n",
            "25    4.42\n",
            "26    4.35\n",
            "Name: AVERAGE TICKET PRICE, dtype: object\n"
          ]
        }
      ]
    },
    {
      "cell_type": "code",
      "source": [
        "df[\"TICKETS SOLD\"] = df[\"TICKETS SOLD\"].astype(np.int64)\n",
        "df[\"AVERAGE TICKET PRICE\"] = df[\"AVERAGE TICKET PRICE\"].astype(np.float64)\n",
        "df['TICKETS SOLD'] = df[\"TICKETS SOLD\"] / df[\"AVERAGE TICKET PRICE\"]\n",
        "df[\"TICKETS SOLD\"]"
      ],
      "metadata": {
        "colab": {
          "base_uri": "https://localhost:8080/"
        },
        "id": "a7V9bxMHsVab",
        "outputId": "6f851495-e342-4850-edef-4f362a1c965a"
      },
      "execution_count": 10,
      "outputs": [
        {
          "output_type": "execute_result",
          "data": {
            "text/plain": [
              "0     4.626363e+07\n",
              "1     2.441473e+07\n",
              "2     1.341203e+08\n",
              "3     1.439666e+08\n",
              "4     1.366377e+08\n",
              "5     1.505846e+08\n",
              "6     1.569818e+08\n",
              "7     1.539049e+08\n",
              "8     1.647194e+08\n",
              "9     1.734827e+08\n",
              "10    1.617800e+08\n",
              "11    1.683839e+08\n",
              "12    1.891423e+08\n",
              "13    1.891424e+08\n",
              "14    2.064007e+08\n",
              "15    2.135478e+08\n",
              "16    2.141935e+08\n",
              "17    2.408456e+08\n",
              "18    2.528341e+08\n",
              "19    2.712145e+08\n",
              "20    2.589884e+08\n",
              "21    2.592690e+08\n",
              "22    2.843827e+08\n",
              "23    3.078534e+08\n",
              "24    2.957189e+08\n",
              "25    2.952989e+08\n",
              "26    2.808519e+08\n",
              "Name: TICKETS SOLD, dtype: float64"
            ]
          },
          "metadata": {},
          "execution_count": 10
        }
      ]
    },
    {
      "cell_type": "code",
      "source": [
        "plt.figure(figsize = (16,6))\n",
        "ax = sns.catplot (x = \"YEAR\",y=\"TICKETS SOLD\" , kind=\"point\", data=df , height = 6 , aspect = 3)\n",
        "plt.ylabel(\"humans\")\n",
        "plt.xlabel(\"years\")\n",
        "plt.grid(True)"
      ],
      "metadata": {
        "colab": {
          "base_uri": "https://localhost:8080/",
          "height": 369
        },
        "id": "VtYK4e1_05AO",
        "outputId": "5043b304-5066-427b-93b0-3317342fdd15"
      },
      "execution_count": 13,
      "outputs": [
        {
          "output_type": "display_data",
          "data": {
            "text/plain": [
              "<Figure size 1152x432 with 0 Axes>"
            ]
          },
          "metadata": {}
        },
        {
          "output_type": "display_data",
          "data": {
            "image/png": "[encoded data removed]",
            "text/plain": [
              "<Figure size 1296x432 with 1 Axes>"
            ]
          },
          "metadata": {
            "needs_background": "light"
          }
        }
      ]
    },
    {
      "cell_type": "code",
      "source": [
        "from sklearn.datasets import load_iris \n",
        "from sklearn.decomposition import PCA\n",
        "\n",
        "iris = load_iris()\n",
        "df['target'] = iris.target\n",
        "df['target'] = df['target'].map({0:\"setosa\", 1:\"versicolor\", 2:\"virginica\"})\n",
        "print(df)\n",
        "#고차원 데이터임"
      ],
      "metadata": {
        "colab": {
          "base_uri": "https://localhost:8080/"
        },
        "id": "FHAL08Bc05Cm",
        "outputId": "ebaac55d-ad80-4433-b899-c6f69a373897"
      },
      "execution_count": 35,
      "outputs": [
        {
          "output_type": "stream",
          "name": "stdout",
          "text": [
            "     sepal length (cm)  sepal width (cm)  ...  petal width (cm)     target\n",
            "0                  5.1               3.5  ...               0.2     setosa\n",
            "1                  4.9               3.0  ...               0.2     setosa\n",
            "2                  4.7               3.2  ...               0.2     setosa\n",
            "3                  4.6               3.1  ...               0.2     setosa\n",
            "4                  5.0               3.6  ...               0.2     setosa\n",
            "..                 ...               ...  ...               ...        ...\n",
            "145                6.7               3.0  ...               2.3  virginica\n",
            "146                6.3               2.5  ...               1.9  virginica\n",
            "147                6.5               3.0  ...               2.0  virginica\n",
            "148                6.2               3.4  ...               2.3  virginica\n",
            "149                5.9               3.0  ...               1.8  virginica\n",
            "\n",
            "[150 rows x 5 columns]\n"
          ]
        }
      ]
    },
    {
      "cell_type": "code",
      "source": [
        "#1차원으로 만들어야지\n",
        "pca = PCA(n_components=1)\n",
        "#정규화\n",
        "from sklearn.preprocessing import StandardScaler\n",
        "x_std = StandardScaler().fit_transform(df)"
      ],
      "metadata": {
        "id": "OzGd4p5605Fk"
      },
      "execution_count": 26,
      "outputs": []
    },
    {
      "cell_type": "code",
      "source": [
        "sklearn_pca_x = pca.fit_transform(x_std)\n",
        "sklearn_result = pd.DataFrame(sklearn_pca_x, columns=['PC1'])\n",
        "sklearn_result['y-axis'] = 0.0\n",
        "Y = df['target']\n",
        "sklearn_result['label'] = Y\n",
        "\n",
        "sns.lmplot('PC1', 'y-axis', data=sklearn_result, fit_reg=False,  # x-axis, y-axis, data, no line\n",
        "           scatter_kws={\"s\": 50}, # marker size\n",
        "           hue=\"label\") # color"
      ],
      "metadata": {
        "colab": {
          "base_uri": "https://localhost:8080/",
          "height": 441
        },
        "id": "4Q4dhabCllTz",
        "outputId": "80427bdd-8cda-4160-d28b-403f1b024d6b"
      },
      "execution_count": 34,
      "outputs": [
        {
          "output_type": "stream",
          "name": "stderr",
          "text": [
            "/usr/local/lib/python3.7/dist-packages/seaborn/_decorators.py:43: FutureWarning: Pass the following variables as keyword args: x, y. From version 0.12, the only valid positional argument will be `data`, and passing other arguments without an explicit keyword will result in an error or misinterpretation.\n",
            "  FutureWarning\n"
          ]
        },
        {
          "output_type": "execute_result",
          "data": {
            "text/plain": [
              "<seaborn.axisgrid.FacetGrid at 0x7f385e972c10>"
            ]
          },
          "metadata": {},
          "execution_count": 34
        },
        {
          "output_type": "display_data",
          "data": {
            "image/png": "[encoded data removed]",
            "text/plain": [
              "<Figure size 444.75x360 with 1 Axes>"
            ]
          },
          "metadata": {
            "needs_background": "light"
          }
        }
      ]
    },
    {
      "cell_type": "code",
      "source": [
        ""
      ],
      "metadata": {
        "id": "r6j8GNu7oeOF"
      },
      "execution_count": null,
      "outputs": []
    },
    {
      "cell_type": "code",
      "source": [
        ""
      ],
      "metadata": {
        "id": "8rcRV_HSllb-"
      },
      "execution_count": null,
      "outputs": []
    },
    {
      "cell_type": "code",
      "source": [
        ""
      ],
      "metadata": {
        "id": "NP4xnx_rllf9"
      },
      "execution_count": null,
      "outputs": []
    }
  ]
}
