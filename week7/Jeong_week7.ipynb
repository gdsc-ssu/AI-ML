{
 "cells": [
  {
   "cell_type": "code",
   "execution_count": 1,
   "metadata": {},
   "outputs": [],
   "source": [
    "import pandas as pd\n",
    "import numpy as np\n",
    "from matplotlib import pyplot as plt\n",
    "import seaborn as sns\n",
    "import os"
   ]
  },
  {
   "cell_type": "code",
   "execution_count": 2,
   "metadata": {},
   "outputs": [],
   "source": [
    "df = pd.read_csv('creditcard.csv')"
   ]
  },
  {
   "cell_type": "code",
   "execution_count": 3,
   "metadata": {},
   "outputs": [
    {
     "data": {
      "text/html": [
       "<div>\n",
       "<style scoped>\n",
       "    .dataframe tbody tr th:only-of-type {\n",
       "        vertical-align: middle;\n",
       "    }\n",
       "\n",
       "    .dataframe tbody tr th {\n",
       "        vertical-align: top;\n",
       "    }\n",
       "\n",
       "    .dataframe thead th {\n",
       "        text-align: right;\n",
       "    }\n",
       "</style>\n",
       "<table border=\"1\" class=\"dataframe\">\n",
       "  <thead>\n",
       "    <tr style=\"text-align: right;\">\n",
       "      <th></th>\n",
       "      <th>Time</th>\n",
       "      <th>V1</th>\n",
       "      <th>V2</th>\n",
       "      <th>V3</th>\n",
       "      <th>V4</th>\n",
       "      <th>V5</th>\n",
       "      <th>V6</th>\n",
       "      <th>V7</th>\n",
       "      <th>V8</th>\n",
       "      <th>V9</th>\n",
       "      <th>...</th>\n",
       "      <th>V21</th>\n",
       "      <th>V22</th>\n",
       "      <th>V23</th>\n",
       "      <th>V24</th>\n",
       "      <th>V25</th>\n",
       "      <th>V26</th>\n",
       "      <th>V27</th>\n",
       "      <th>V28</th>\n",
       "      <th>Amount</th>\n",
       "      <th>Class</th>\n",
       "    </tr>\n",
       "  </thead>\n",
       "  <tbody>\n",
       "    <tr>\n",
       "      <th>count</th>\n",
       "      <td>284807.000000</td>\n",
       "      <td>2.848070e+05</td>\n",
       "      <td>2.848070e+05</td>\n",
       "      <td>2.848070e+05</td>\n",
       "      <td>2.848070e+05</td>\n",
       "      <td>2.848070e+05</td>\n",
       "      <td>2.848070e+05</td>\n",
       "      <td>2.848070e+05</td>\n",
       "      <td>2.848070e+05</td>\n",
       "      <td>2.848070e+05</td>\n",
       "      <td>...</td>\n",
       "      <td>2.848070e+05</td>\n",
       "      <td>2.848070e+05</td>\n",
       "      <td>2.848070e+05</td>\n",
       "      <td>2.848070e+05</td>\n",
       "      <td>2.848070e+05</td>\n",
       "      <td>2.848070e+05</td>\n",
       "      <td>2.848070e+05</td>\n",
       "      <td>2.848070e+05</td>\n",
       "      <td>284807.000000</td>\n",
       "      <td>284807.000000</td>\n",
       "    </tr>\n",
       "    <tr>\n",
       "      <th>mean</th>\n",
       "      <td>94813.859575</td>\n",
       "      <td>1.168375e-15</td>\n",
       "      <td>3.416908e-16</td>\n",
       "      <td>-1.379537e-15</td>\n",
       "      <td>2.074095e-15</td>\n",
       "      <td>9.604066e-16</td>\n",
       "      <td>1.487313e-15</td>\n",
       "      <td>-5.556467e-16</td>\n",
       "      <td>1.213481e-16</td>\n",
       "      <td>-2.406331e-15</td>\n",
       "      <td>...</td>\n",
       "      <td>1.654067e-16</td>\n",
       "      <td>-3.568593e-16</td>\n",
       "      <td>2.578648e-16</td>\n",
       "      <td>4.473266e-15</td>\n",
       "      <td>5.340915e-16</td>\n",
       "      <td>1.683437e-15</td>\n",
       "      <td>-3.660091e-16</td>\n",
       "      <td>-1.227390e-16</td>\n",
       "      <td>88.349619</td>\n",
       "      <td>0.001727</td>\n",
       "    </tr>\n",
       "    <tr>\n",
       "      <th>std</th>\n",
       "      <td>47488.145955</td>\n",
       "      <td>1.958696e+00</td>\n",
       "      <td>1.651309e+00</td>\n",
       "      <td>1.516255e+00</td>\n",
       "      <td>1.415869e+00</td>\n",
       "      <td>1.380247e+00</td>\n",
       "      <td>1.332271e+00</td>\n",
       "      <td>1.237094e+00</td>\n",
       "      <td>1.194353e+00</td>\n",
       "      <td>1.098632e+00</td>\n",
       "      <td>...</td>\n",
       "      <td>7.345240e-01</td>\n",
       "      <td>7.257016e-01</td>\n",
       "      <td>6.244603e-01</td>\n",
       "      <td>6.056471e-01</td>\n",
       "      <td>5.212781e-01</td>\n",
       "      <td>4.822270e-01</td>\n",
       "      <td>4.036325e-01</td>\n",
       "      <td>3.300833e-01</td>\n",
       "      <td>250.120109</td>\n",
       "      <td>0.041527</td>\n",
       "    </tr>\n",
       "    <tr>\n",
       "      <th>min</th>\n",
       "      <td>0.000000</td>\n",
       "      <td>-5.640751e+01</td>\n",
       "      <td>-7.271573e+01</td>\n",
       "      <td>-4.832559e+01</td>\n",
       "      <td>-5.683171e+00</td>\n",
       "      <td>-1.137433e+02</td>\n",
       "      <td>-2.616051e+01</td>\n",
       "      <td>-4.355724e+01</td>\n",
       "      <td>-7.321672e+01</td>\n",
       "      <td>-1.343407e+01</td>\n",
       "      <td>...</td>\n",
       "      <td>-3.483038e+01</td>\n",
       "      <td>-1.093314e+01</td>\n",
       "      <td>-4.480774e+01</td>\n",
       "      <td>-2.836627e+00</td>\n",
       "      <td>-1.029540e+01</td>\n",
       "      <td>-2.604551e+00</td>\n",
       "      <td>-2.256568e+01</td>\n",
       "      <td>-1.543008e+01</td>\n",
       "      <td>0.000000</td>\n",
       "      <td>0.000000</td>\n",
       "    </tr>\n",
       "    <tr>\n",
       "      <th>25%</th>\n",
       "      <td>54201.500000</td>\n",
       "      <td>-9.203734e-01</td>\n",
       "      <td>-5.985499e-01</td>\n",
       "      <td>-8.903648e-01</td>\n",
       "      <td>-8.486401e-01</td>\n",
       "      <td>-6.915971e-01</td>\n",
       "      <td>-7.682956e-01</td>\n",
       "      <td>-5.540759e-01</td>\n",
       "      <td>-2.086297e-01</td>\n",
       "      <td>-6.430976e-01</td>\n",
       "      <td>...</td>\n",
       "      <td>-2.283949e-01</td>\n",
       "      <td>-5.423504e-01</td>\n",
       "      <td>-1.618463e-01</td>\n",
       "      <td>-3.545861e-01</td>\n",
       "      <td>-3.171451e-01</td>\n",
       "      <td>-3.269839e-01</td>\n",
       "      <td>-7.083953e-02</td>\n",
       "      <td>-5.295979e-02</td>\n",
       "      <td>5.600000</td>\n",
       "      <td>0.000000</td>\n",
       "    </tr>\n",
       "    <tr>\n",
       "      <th>50%</th>\n",
       "      <td>84692.000000</td>\n",
       "      <td>1.810880e-02</td>\n",
       "      <td>6.548556e-02</td>\n",
       "      <td>1.798463e-01</td>\n",
       "      <td>-1.984653e-02</td>\n",
       "      <td>-5.433583e-02</td>\n",
       "      <td>-2.741871e-01</td>\n",
       "      <td>4.010308e-02</td>\n",
       "      <td>2.235804e-02</td>\n",
       "      <td>-5.142873e-02</td>\n",
       "      <td>...</td>\n",
       "      <td>-2.945017e-02</td>\n",
       "      <td>6.781943e-03</td>\n",
       "      <td>-1.119293e-02</td>\n",
       "      <td>4.097606e-02</td>\n",
       "      <td>1.659350e-02</td>\n",
       "      <td>-5.213911e-02</td>\n",
       "      <td>1.342146e-03</td>\n",
       "      <td>1.124383e-02</td>\n",
       "      <td>22.000000</td>\n",
       "      <td>0.000000</td>\n",
       "    </tr>\n",
       "    <tr>\n",
       "      <th>75%</th>\n",
       "      <td>139320.500000</td>\n",
       "      <td>1.315642e+00</td>\n",
       "      <td>8.037239e-01</td>\n",
       "      <td>1.027196e+00</td>\n",
       "      <td>7.433413e-01</td>\n",
       "      <td>6.119264e-01</td>\n",
       "      <td>3.985649e-01</td>\n",
       "      <td>5.704361e-01</td>\n",
       "      <td>3.273459e-01</td>\n",
       "      <td>5.971390e-01</td>\n",
       "      <td>...</td>\n",
       "      <td>1.863772e-01</td>\n",
       "      <td>5.285536e-01</td>\n",
       "      <td>1.476421e-01</td>\n",
       "      <td>4.395266e-01</td>\n",
       "      <td>3.507156e-01</td>\n",
       "      <td>2.409522e-01</td>\n",
       "      <td>9.104512e-02</td>\n",
       "      <td>7.827995e-02</td>\n",
       "      <td>77.165000</td>\n",
       "      <td>0.000000</td>\n",
       "    </tr>\n",
       "    <tr>\n",
       "      <th>max</th>\n",
       "      <td>172792.000000</td>\n",
       "      <td>2.454930e+00</td>\n",
       "      <td>2.205773e+01</td>\n",
       "      <td>9.382558e+00</td>\n",
       "      <td>1.687534e+01</td>\n",
       "      <td>3.480167e+01</td>\n",
       "      <td>7.330163e+01</td>\n",
       "      <td>1.205895e+02</td>\n",
       "      <td>2.000721e+01</td>\n",
       "      <td>1.559499e+01</td>\n",
       "      <td>...</td>\n",
       "      <td>2.720284e+01</td>\n",
       "      <td>1.050309e+01</td>\n",
       "      <td>2.252841e+01</td>\n",
       "      <td>4.584549e+00</td>\n",
       "      <td>7.519589e+00</td>\n",
       "      <td>3.517346e+00</td>\n",
       "      <td>3.161220e+01</td>\n",
       "      <td>3.384781e+01</td>\n",
       "      <td>25691.160000</td>\n",
       "      <td>1.000000</td>\n",
       "    </tr>\n",
       "  </tbody>\n",
       "</table>\n",
       "<p>8 rows × 31 columns</p>\n",
       "</div>"
      ],
      "text/plain": [
       "                Time            V1            V2            V3            V4  \\\n",
       "count  284807.000000  2.848070e+05  2.848070e+05  2.848070e+05  2.848070e+05   \n",
       "mean    94813.859575  1.168375e-15  3.416908e-16 -1.379537e-15  2.074095e-15   \n",
       "std     47488.145955  1.958696e+00  1.651309e+00  1.516255e+00  1.415869e+00   \n",
       "min         0.000000 -5.640751e+01 -7.271573e+01 -4.832559e+01 -5.683171e+00   \n",
       "25%     54201.500000 -9.203734e-01 -5.985499e-01 -8.903648e-01 -8.486401e-01   \n",
       "50%     84692.000000  1.810880e-02  6.548556e-02  1.798463e-01 -1.984653e-02   \n",
       "75%    139320.500000  1.315642e+00  8.037239e-01  1.027196e+00  7.433413e-01   \n",
       "max    172792.000000  2.454930e+00  2.205773e+01  9.382558e+00  1.687534e+01   \n",
       "\n",
       "                 V5            V6            V7            V8            V9  \\\n",
       "count  2.848070e+05  2.848070e+05  2.848070e+05  2.848070e+05  2.848070e+05   \n",
       "mean   9.604066e-16  1.487313e-15 -5.556467e-16  1.213481e-16 -2.406331e-15   \n",
       "std    1.380247e+00  1.332271e+00  1.237094e+00  1.194353e+00  1.098632e+00   \n",
       "min   -1.137433e+02 -2.616051e+01 -4.355724e+01 -7.321672e+01 -1.343407e+01   \n",
       "25%   -6.915971e-01 -7.682956e-01 -5.540759e-01 -2.086297e-01 -6.430976e-01   \n",
       "50%   -5.433583e-02 -2.741871e-01  4.010308e-02  2.235804e-02 -5.142873e-02   \n",
       "75%    6.119264e-01  3.985649e-01  5.704361e-01  3.273459e-01  5.971390e-01   \n",
       "max    3.480167e+01  7.330163e+01  1.205895e+02  2.000721e+01  1.559499e+01   \n",
       "\n",
       "       ...           V21           V22           V23           V24  \\\n",
       "count  ...  2.848070e+05  2.848070e+05  2.848070e+05  2.848070e+05   \n",
       "mean   ...  1.654067e-16 -3.568593e-16  2.578648e-16  4.473266e-15   \n",
       "std    ...  7.345240e-01  7.257016e-01  6.244603e-01  6.056471e-01   \n",
       "min    ... -3.483038e+01 -1.093314e+01 -4.480774e+01 -2.836627e+00   \n",
       "25%    ... -2.283949e-01 -5.423504e-01 -1.618463e-01 -3.545861e-01   \n",
       "50%    ... -2.945017e-02  6.781943e-03 -1.119293e-02  4.097606e-02   \n",
       "75%    ...  1.863772e-01  5.285536e-01  1.476421e-01  4.395266e-01   \n",
       "max    ...  2.720284e+01  1.050309e+01  2.252841e+01  4.584549e+00   \n",
       "\n",
       "                V25           V26           V27           V28         Amount  \\\n",
       "count  2.848070e+05  2.848070e+05  2.848070e+05  2.848070e+05  284807.000000   \n",
       "mean   5.340915e-16  1.683437e-15 -3.660091e-16 -1.227390e-16      88.349619   \n",
       "std    5.212781e-01  4.822270e-01  4.036325e-01  3.300833e-01     250.120109   \n",
       "min   -1.029540e+01 -2.604551e+00 -2.256568e+01 -1.543008e+01       0.000000   \n",
       "25%   -3.171451e-01 -3.269839e-01 -7.083953e-02 -5.295979e-02       5.600000   \n",
       "50%    1.659350e-02 -5.213911e-02  1.342146e-03  1.124383e-02      22.000000   \n",
       "75%    3.507156e-01  2.409522e-01  9.104512e-02  7.827995e-02      77.165000   \n",
       "max    7.519589e+00  3.517346e+00  3.161220e+01  3.384781e+01   25691.160000   \n",
       "\n",
       "               Class  \n",
       "count  284807.000000  \n",
       "mean        0.001727  \n",
       "std         0.041527  \n",
       "min         0.000000  \n",
       "25%         0.000000  \n",
       "50%         0.000000  \n",
       "75%         0.000000  \n",
       "max         1.000000  \n",
       "\n",
       "[8 rows x 31 columns]"
      ]
     },
     "execution_count": 3,
     "metadata": {},
     "output_type": "execute_result"
    }
   ],
   "source": [
    "df.describe()"
   ]
  },
  {
   "cell_type": "markdown",
   "metadata": {},
   "source": [
    "#### 신용 카드 데이터를 활용해 금융 사기를 확인해보자.\n",
    "* class 컬럼이 라벨을 의미하며 1인 경우가 fraud이다.\n",
    "* 우리의 목표는 나머지 컬럼을 활용해 fraud인 경우를 감별하는 모델을 생성하는 것이다.\n",
    "* time은 시간, amount는 사기의 규모를 의미한다."
   ]
  },
  {
   "cell_type": "code",
   "execution_count": 4,
   "metadata": {},
   "outputs": [
    {
     "name": "stdout",
     "output_type": "stream",
     "text": [
      "Data size is (284807, 31)\n",
      "Data column is Index(['Time', 'V1', 'V2', 'V3', 'V4', 'V5', 'V6', 'V7', 'V8', 'V9', 'V10',\n",
      "       'V11', 'V12', 'V13', 'V14', 'V15', 'V16', 'V17', 'V18', 'V19', 'V20',\n",
      "       'V21', 'V22', 'V23', 'V24', 'V25', 'V26', 'V27', 'V28', 'Amount',\n",
      "       'Class'],\n",
      "      dtype='object')\n"
     ]
    }
   ],
   "source": [
    "print(f'Data size is {df.shape}')\n",
    "print(f'Data column is {df.columns}')"
   ]
  },
  {
   "cell_type": "markdown",
   "metadata": {},
   "source": [
    "#### 정규화 진행\n",
    "* amount,time의 경우엔 다른 피쳐에 비해 값이 지나치게 크므로 스케일링이 필요하다."
   ]
  },
  {
   "cell_type": "code",
   "execution_count": 5,
   "metadata": {},
   "outputs": [],
   "source": [
    "time = df['Time']\n",
    "amount = df['Amount']\n",
    "df['Time'] = (time - time.mean()) / time.std()\n",
    "df['Amount'] = (amount - amount.mean()) / amount.std() "
   ]
  },
  {
   "cell_type": "markdown",
   "metadata": {},
   "source": [
    "#### 데이터 관찰\n",
    "* 결측치는 얼마나 존재하는지 검사해본다.\n",
    "* 각 컬럼 별로 어떤 의미를 가지는지 또 어떠한 상관 관계를 띄는지 확인해본다.\n",
    "* 데이터의 전반적인 분포가 어떤 형태인지 확인해본다."
   ]
  },
  {
   "cell_type": "code",
   "execution_count": 6,
   "metadata": {},
   "outputs": [
    {
     "data": {
      "text/plain": [
       "0"
      ]
     },
     "execution_count": 6,
     "metadata": {},
     "output_type": "execute_result"
    }
   ],
   "source": [
    "df.isna().sum().max() #데이터에 결측치가 존재하지 않는다."
   ]
  },
  {
   "cell_type": "code",
   "execution_count": 7,
   "metadata": {},
   "outputs": [
    {
     "data": {
      "image/png": "[encoded data removed]",
      "text/plain": [
       "<Figure size 1728x720 with 2 Axes>"
      ]
     },
     "metadata": {
      "needs_background": "light"
     },
     "output_type": "display_data"
    }
   ],
   "source": [
    "plt.figure(figsize=(24,10))\n",
    "sns.heatmap(df.corr(method='pearson'),cmap=\"Greens\")\n",
    "plt.title('Heatmap of all columns', fontsize=20)\n",
    "plt.show()"
   ]
  },
  {
   "cell_type": "markdown",
   "metadata": {},
   "source": [
    "#### 상관 관계가 거의 존재하지 않는다.\n",
    "* 기묘하게도 v2~28사이의 상관 관계는 전무하다 싶이 한다.\n",
    "* 상관 관계가 일절 존재하지 않는 다는 것은 두 피쳐가 서로 독립성을 띈다는 것을 의미한다.\n",
    "* 그렇다면, 이는 독립벡터로 이뤄진 데이터이고 이에 따라 이전에 <b><u>PCA가 진행되었을 것이라는 추측을 할 수 있다.</u></b> (PCA를 진행하고 나면 기저벡터만 남음으로..)\n",
    "> 그렇다면 30개나 되는 피쳐를 모조리 활용해야만 하냐는 것이다."
   ]
  },
  {
   "cell_type": "markdown",
   "metadata": {},
   "source": [
    "#### Skewed Data 문제\n",
    "* 현재 데이터는 사기 데이터에 비해 사기가 아닌 데이터가 과하게 많이 존재한다.\n",
    "* 이 경우 모델이 모든 케이스를 사기가 아니라고 대답한다 하더라도 높은 정확도가 보장된다.\n",
    "* 데이터의 비대칭성을 방지하기 위해 오버 샘플링이나 다운 샘플링을 진행해야 한다."
   ]
  },
  {
   "cell_type": "code",
   "execution_count": 9,
   "metadata": {},
   "outputs": [
    {
     "name": "stdout",
     "output_type": "stream",
     "text": [
      "None Fraud: 284315, Fraud :492\n"
     ]
    },
    {
     "data": {
      "text/plain": [
       "<AxesSubplot:>"
      ]
     },
     "execution_count": 9,
     "metadata": {},
     "output_type": "execute_result"
    },
    {
     "data": {
      "image/png": "[encoded data removed]",
      "text/plain": [
       "<Figure size 432x288 with 1 Axes>"
      ]
     },
     "metadata": {
      "needs_background": "light"
     },
     "output_type": "display_data"
    }
   ],
   "source": [
    "fraud = df[df['Class'] == 1]\n",
    "print(f\"None Fraud: {len(df.index) - len(fraud)}, Fraud :{len(fraud)}\")\n",
    "df['Class'].value_counts().plot.bar()"
   ]
  },
  {
   "cell_type": "markdown",
   "metadata": {},
   "source": [
    "랜덤으로 샘플을 추출해 언더 샘플링을 적용해보자."
   ]
  },
  {
   "cell_type": "code",
   "execution_count": 18,
   "metadata": {},
   "outputs": [
    {
     "data": {
      "text/html": [
       "<div>\n",
       "<style scoped>\n",
       "    .dataframe tbody tr th:only-of-type {\n",
       "        vertical-align: middle;\n",
       "    }\n",
       "\n",
       "    .dataframe tbody tr th {\n",
       "        vertical-align: top;\n",
       "    }\n",
       "\n",
       "    .dataframe thead th {\n",
       "        text-align: right;\n",
       "    }\n",
       "</style>\n",
       "<table border=\"1\" class=\"dataframe\">\n",
       "  <thead>\n",
       "    <tr style=\"text-align: right;\">\n",
       "      <th></th>\n",
       "      <th>Time</th>\n",
       "      <th>V1</th>\n",
       "      <th>V2</th>\n",
       "      <th>V3</th>\n",
       "      <th>V4</th>\n",
       "      <th>V5</th>\n",
       "      <th>V6</th>\n",
       "      <th>V7</th>\n",
       "      <th>V8</th>\n",
       "      <th>V9</th>\n",
       "      <th>...</th>\n",
       "      <th>V21</th>\n",
       "      <th>V22</th>\n",
       "      <th>V23</th>\n",
       "      <th>V24</th>\n",
       "      <th>V25</th>\n",
       "      <th>V26</th>\n",
       "      <th>V27</th>\n",
       "      <th>V28</th>\n",
       "      <th>Amount</th>\n",
       "      <th>Class</th>\n",
       "    </tr>\n",
       "  </thead>\n",
       "  <tbody>\n",
       "    <tr>\n",
       "      <th>42756</th>\n",
       "      <td>-1.128300</td>\n",
       "      <td>-10.645800</td>\n",
       "      <td>5.918307</td>\n",
       "      <td>-11.671043</td>\n",
       "      <td>8.807369</td>\n",
       "      <td>-7.975501</td>\n",
       "      <td>-3.586806</td>\n",
       "      <td>-13.616797</td>\n",
       "      <td>6.428169</td>\n",
       "      <td>-7.368451</td>\n",
       "      <td>...</td>\n",
       "      <td>2.571970</td>\n",
       "      <td>0.206809</td>\n",
       "      <td>-1.667801</td>\n",
       "      <td>0.558419</td>\n",
       "      <td>-0.027898</td>\n",
       "      <td>0.354254</td>\n",
       "      <td>0.273329</td>\n",
       "      <td>-0.152908</td>\n",
       "      <td>-0.353229</td>\n",
       "      <td>1</td>\n",
       "    </tr>\n",
       "    <tr>\n",
       "      <th>222095</th>\n",
       "      <td>1.010929</td>\n",
       "      <td>1.817438</td>\n",
       "      <td>-0.203405</td>\n",
       "      <td>-2.162074</td>\n",
       "      <td>0.177450</td>\n",
       "      <td>1.022982</td>\n",
       "      <td>0.597534</td>\n",
       "      <td>-0.030250</td>\n",
       "      <td>0.226835</td>\n",
       "      <td>0.434775</td>\n",
       "      <td>...</td>\n",
       "      <td>0.310145</td>\n",
       "      <td>0.986452</td>\n",
       "      <td>-0.073807</td>\n",
       "      <td>-1.715406</td>\n",
       "      <td>0.053910</td>\n",
       "      <td>0.006219</td>\n",
       "      <td>0.029547</td>\n",
       "      <td>-0.047121</td>\n",
       "      <td>-0.105948</td>\n",
       "      <td>0</td>\n",
       "    </tr>\n",
       "    <tr>\n",
       "      <th>111690</th>\n",
       "      <td>-0.473526</td>\n",
       "      <td>-4.198735</td>\n",
       "      <td>0.194121</td>\n",
       "      <td>-3.917586</td>\n",
       "      <td>3.920748</td>\n",
       "      <td>-1.875486</td>\n",
       "      <td>-2.118933</td>\n",
       "      <td>-3.614445</td>\n",
       "      <td>1.687884</td>\n",
       "      <td>-2.189871</td>\n",
       "      <td>...</td>\n",
       "      <td>0.801312</td>\n",
       "      <td>-0.183001</td>\n",
       "      <td>-0.440387</td>\n",
       "      <td>0.292539</td>\n",
       "      <td>-0.144967</td>\n",
       "      <td>-0.251744</td>\n",
       "      <td>1.249414</td>\n",
       "      <td>-0.131525</td>\n",
       "      <td>0.601912</td>\n",
       "      <td>1</td>\n",
       "    </tr>\n",
       "    <tr>\n",
       "      <th>149900</th>\n",
       "      <td>-0.055864</td>\n",
       "      <td>2.087264</td>\n",
       "      <td>0.223541</td>\n",
       "      <td>-1.638850</td>\n",
       "      <td>0.590592</td>\n",
       "      <td>0.514760</td>\n",
       "      <td>-0.757963</td>\n",
       "      <td>0.052028</td>\n",
       "      <td>-0.275136</td>\n",
       "      <td>1.875324</td>\n",
       "      <td>...</td>\n",
       "      <td>-0.531472</td>\n",
       "      <td>-1.206440</td>\n",
       "      <td>0.338410</td>\n",
       "      <td>0.302424</td>\n",
       "      <td>-0.279796</td>\n",
       "      <td>0.144569</td>\n",
       "      <td>-0.093474</td>\n",
       "      <td>-0.039540</td>\n",
       "      <td>-0.343274</td>\n",
       "      <td>0</td>\n",
       "    </tr>\n",
       "    <tr>\n",
       "      <th>112492</th>\n",
       "      <td>-0.466282</td>\n",
       "      <td>-1.032847</td>\n",
       "      <td>-0.687501</td>\n",
       "      <td>1.680568</td>\n",
       "      <td>-2.278279</td>\n",
       "      <td>-1.711903</td>\n",
       "      <td>-0.662416</td>\n",
       "      <td>-0.822389</td>\n",
       "      <td>0.540355</td>\n",
       "      <td>-2.511524</td>\n",
       "      <td>...</td>\n",
       "      <td>0.192511</td>\n",
       "      <td>0.449598</td>\n",
       "      <td>0.062803</td>\n",
       "      <td>0.484299</td>\n",
       "      <td>-0.084087</td>\n",
       "      <td>-0.278100</td>\n",
       "      <td>-0.033240</td>\n",
       "      <td>-0.000251</td>\n",
       "      <td>-0.007395</td>\n",
       "      <td>0</td>\n",
       "    </tr>\n",
       "    <tr>\n",
       "      <th>...</th>\n",
       "      <td>...</td>\n",
       "      <td>...</td>\n",
       "      <td>...</td>\n",
       "      <td>...</td>\n",
       "      <td>...</td>\n",
       "      <td>...</td>\n",
       "      <td>...</td>\n",
       "      <td>...</td>\n",
       "      <td>...</td>\n",
       "      <td>...</td>\n",
       "      <td>...</td>\n",
       "      <td>...</td>\n",
       "      <td>...</td>\n",
       "      <td>...</td>\n",
       "      <td>...</td>\n",
       "      <td>...</td>\n",
       "      <td>...</td>\n",
       "      <td>...</td>\n",
       "      <td>...</td>\n",
       "      <td>...</td>\n",
       "      <td>...</td>\n",
       "    </tr>\n",
       "    <tr>\n",
       "      <th>231978</th>\n",
       "      <td>1.098888</td>\n",
       "      <td>-2.064240</td>\n",
       "      <td>2.629739</td>\n",
       "      <td>-0.748406</td>\n",
       "      <td>0.694992</td>\n",
       "      <td>0.418178</td>\n",
       "      <td>1.392520</td>\n",
       "      <td>-1.697801</td>\n",
       "      <td>-6.333065</td>\n",
       "      <td>1.724184</td>\n",
       "      <td>...</td>\n",
       "      <td>6.215514</td>\n",
       "      <td>-1.276909</td>\n",
       "      <td>0.459861</td>\n",
       "      <td>-1.051685</td>\n",
       "      <td>0.209178</td>\n",
       "      <td>-0.319859</td>\n",
       "      <td>0.015434</td>\n",
       "      <td>-0.050117</td>\n",
       "      <td>-0.321244</td>\n",
       "      <td>1</td>\n",
       "    </tr>\n",
       "    <tr>\n",
       "      <th>214662</th>\n",
       "      <td>0.946618</td>\n",
       "      <td>0.467992</td>\n",
       "      <td>1.100118</td>\n",
       "      <td>-5.607145</td>\n",
       "      <td>2.204714</td>\n",
       "      <td>-0.578539</td>\n",
       "      <td>-0.174200</td>\n",
       "      <td>-3.454201</td>\n",
       "      <td>1.102823</td>\n",
       "      <td>-1.065016</td>\n",
       "      <td>...</td>\n",
       "      <td>0.983481</td>\n",
       "      <td>0.899876</td>\n",
       "      <td>-0.285103</td>\n",
       "      <td>-1.929717</td>\n",
       "      <td>0.319869</td>\n",
       "      <td>0.170636</td>\n",
       "      <td>0.851798</td>\n",
       "      <td>0.372098</td>\n",
       "      <td>0.128700</td>\n",
       "      <td>1</td>\n",
       "    </tr>\n",
       "    <tr>\n",
       "      <th>42945</th>\n",
       "      <td>-1.126720</td>\n",
       "      <td>-13.680760</td>\n",
       "      <td>6.990389</td>\n",
       "      <td>-13.770001</td>\n",
       "      <td>8.694897</td>\n",
       "      <td>-11.426968</td>\n",
       "      <td>-2.919845</td>\n",
       "      <td>-14.594562</td>\n",
       "      <td>8.622905</td>\n",
       "      <td>-8.090697</td>\n",
       "      <td>...</td>\n",
       "      <td>2.989553</td>\n",
       "      <td>0.497599</td>\n",
       "      <td>-0.509290</td>\n",
       "      <td>0.732503</td>\n",
       "      <td>0.280528</td>\n",
       "      <td>0.280037</td>\n",
       "      <td>-1.406687</td>\n",
       "      <td>-0.663643</td>\n",
       "      <td>-0.350190</td>\n",
       "      <td>1</td>\n",
       "    </tr>\n",
       "    <tr>\n",
       "      <th>154960</th>\n",
       "      <td>0.189398</td>\n",
       "      <td>-4.517344</td>\n",
       "      <td>2.500224</td>\n",
       "      <td>-4.013928</td>\n",
       "      <td>1.189452</td>\n",
       "      <td>-2.486861</td>\n",
       "      <td>-1.413476</td>\n",
       "      <td>-4.245707</td>\n",
       "      <td>1.265087</td>\n",
       "      <td>1.168828</td>\n",
       "      <td>...</td>\n",
       "      <td>1.326944</td>\n",
       "      <td>0.102999</td>\n",
       "      <td>0.508167</td>\n",
       "      <td>-0.278018</td>\n",
       "      <td>0.139721</td>\n",
       "      <td>0.064610</td>\n",
       "      <td>-0.972358</td>\n",
       "      <td>0.351360</td>\n",
       "      <td>-0.344153</td>\n",
       "      <td>1</td>\n",
       "    </tr>\n",
       "    <tr>\n",
       "      <th>53591</th>\n",
       "      <td>-1.026716</td>\n",
       "      <td>-1.309441</td>\n",
       "      <td>1.786495</td>\n",
       "      <td>-1.371070</td>\n",
       "      <td>1.214335</td>\n",
       "      <td>-0.336642</td>\n",
       "      <td>-1.390120</td>\n",
       "      <td>-1.709109</td>\n",
       "      <td>0.667748</td>\n",
       "      <td>-1.699809</td>\n",
       "      <td>...</td>\n",
       "      <td>0.533521</td>\n",
       "      <td>-0.022180</td>\n",
       "      <td>-0.299556</td>\n",
       "      <td>-0.226416</td>\n",
       "      <td>0.364360</td>\n",
       "      <td>-0.475102</td>\n",
       "      <td>0.571426</td>\n",
       "      <td>0.293426</td>\n",
       "      <td>-0.349231</td>\n",
       "      <td>1</td>\n",
       "    </tr>\n",
       "  </tbody>\n",
       "</table>\n",
       "<p>787 rows × 31 columns</p>\n",
       "</div>"
      ],
      "text/plain": [
       "            Time         V1        V2         V3        V4         V5  \\\n",
       "42756  -1.128300 -10.645800  5.918307 -11.671043  8.807369  -7.975501   \n",
       "222095  1.010929   1.817438 -0.203405  -2.162074  0.177450   1.022982   \n",
       "111690 -0.473526  -4.198735  0.194121  -3.917586  3.920748  -1.875486   \n",
       "149900 -0.055864   2.087264  0.223541  -1.638850  0.590592   0.514760   \n",
       "112492 -0.466282  -1.032847 -0.687501   1.680568 -2.278279  -1.711903   \n",
       "...          ...        ...       ...        ...       ...        ...   \n",
       "231978  1.098888  -2.064240  2.629739  -0.748406  0.694992   0.418178   \n",
       "214662  0.946618   0.467992  1.100118  -5.607145  2.204714  -0.578539   \n",
       "42945  -1.126720 -13.680760  6.990389 -13.770001  8.694897 -11.426968   \n",
       "154960  0.189398  -4.517344  2.500224  -4.013928  1.189452  -2.486861   \n",
       "53591  -1.026716  -1.309441  1.786495  -1.371070  1.214335  -0.336642   \n",
       "\n",
       "              V6         V7        V8        V9  ...       V21       V22  \\\n",
       "42756  -3.586806 -13.616797  6.428169 -7.368451  ...  2.571970  0.206809   \n",
       "222095  0.597534  -0.030250  0.226835  0.434775  ...  0.310145  0.986452   \n",
       "111690 -2.118933  -3.614445  1.687884 -2.189871  ...  0.801312 -0.183001   \n",
       "149900 -0.757963   0.052028 -0.275136  1.875324  ... -0.531472 -1.206440   \n",
       "112492 -0.662416  -0.822389  0.540355 -2.511524  ...  0.192511  0.449598   \n",
       "...          ...        ...       ...       ...  ...       ...       ...   \n",
       "231978  1.392520  -1.697801 -6.333065  1.724184  ...  6.215514 -1.276909   \n",
       "214662 -0.174200  -3.454201  1.102823 -1.065016  ...  0.983481  0.899876   \n",
       "42945  -2.919845 -14.594562  8.622905 -8.090697  ...  2.989553  0.497599   \n",
       "154960 -1.413476  -4.245707  1.265087  1.168828  ...  1.326944  0.102999   \n",
       "53591  -1.390120  -1.709109  0.667748 -1.699809  ...  0.533521 -0.022180   \n",
       "\n",
       "             V23       V24       V25       V26       V27       V28    Amount  \\\n",
       "42756  -1.667801  0.558419 -0.027898  0.354254  0.273329 -0.152908 -0.353229   \n",
       "222095 -0.073807 -1.715406  0.053910  0.006219  0.029547 -0.047121 -0.105948   \n",
       "111690 -0.440387  0.292539 -0.144967 -0.251744  1.249414 -0.131525  0.601912   \n",
       "149900  0.338410  0.302424 -0.279796  0.144569 -0.093474 -0.039540 -0.343274   \n",
       "112492  0.062803  0.484299 -0.084087 -0.278100 -0.033240 -0.000251 -0.007395   \n",
       "...          ...       ...       ...       ...       ...       ...       ...   \n",
       "231978  0.459861 -1.051685  0.209178 -0.319859  0.015434 -0.050117 -0.321244   \n",
       "214662 -0.285103 -1.929717  0.319869  0.170636  0.851798  0.372098  0.128700   \n",
       "42945  -0.509290  0.732503  0.280528  0.280037 -1.406687 -0.663643 -0.350190   \n",
       "154960  0.508167 -0.278018  0.139721  0.064610 -0.972358  0.351360 -0.344153   \n",
       "53591  -0.299556 -0.226416  0.364360 -0.475102  0.571426  0.293426 -0.349231   \n",
       "\n",
       "        Class  \n",
       "42756       1  \n",
       "222095      0  \n",
       "111690      1  \n",
       "149900      0  \n",
       "112492      0  \n",
       "...       ...  \n",
       "231978      1  \n",
       "214662      1  \n",
       "42945       1  \n",
       "154960      1  \n",
       "53591       1  \n",
       "\n",
       "[787 rows x 31 columns]"
      ]
     },
     "execution_count": 18,
     "metadata": {},
     "output_type": "execute_result"
    }
   ],
   "source": [
    "#다운 샘플링을 진행해보자 \n",
    "down_sample = df.loc[df['Class'] == False].sample(n=int(len(fraud)))\n",
    "down_sample = pd.concat([down_sample,fraud])\n",
    "down_sample = down_sample.sample(frac=0.8, random_state=42)\n",
    "down_sample"
   ]
  },
  {
   "cell_type": "markdown",
   "metadata": {},
   "source": [
    "샘플의 분포가 알맞게 진행됐는지 살펴보자"
   ]
  },
  {
   "cell_type": "code",
   "execution_count": 19,
   "metadata": {},
   "outputs": [
    {
     "data": {
      "text/plain": [
       "<AxesSubplot:>"
      ]
     },
     "execution_count": 19,
     "metadata": {},
     "output_type": "execute_result"
    },
    {
     "data": {
      "image/png": "[encoded data removed]",
      "text/plain": [
       "<Figure size 432x288 with 1 Axes>"
      ]
     },
     "metadata": {
      "needs_background": "light"
     },
     "output_type": "display_data"
    }
   ],
   "source": [
    "down_sample['Class'].value_counts().plot.bar()"
   ]
  },
  {
   "cell_type": "markdown",
   "metadata": {},
   "source": [
    "이제 데이터 셋을 학습, 검증, 테스트 셋으로 분리하자."
   ]
  },
  {
   "cell_type": "code",
   "execution_count": 20,
   "metadata": {},
   "outputs": [],
   "source": [
    "x_test = df.drop(down_sample.index).iloc[:,:-1]\n",
    "y_test = df['Class'].iloc[x_test.index]\n"
   ]
  },
  {
   "cell_type": "markdown",
   "metadata": {},
   "source": [
    "SVM을 활용해 모델을 학습 시켜보자."
   ]
  },
  {
   "cell_type": "code",
   "execution_count": 21,
   "metadata": {},
   "outputs": [
    {
     "data": {
      "text/plain": [
       "SVC(C=1, gamma='auto')"
      ]
     },
     "execution_count": 21,
     "metadata": {},
     "output_type": "execute_result"
    }
   ],
   "source": [
    "from sklearn import svm\n",
    "X_train = down_sample.iloc[:,:-1]\n",
    "y_train = down_sample.iloc[:,-1]\n",
    "SVM = svm.SVC(C = 1, kernel='rbf',gamma='auto')\n",
    "SVM.fit(X_train, y_train)"
   ]
  },
  {
   "cell_type": "code",
   "execution_count": 15,
   "metadata": {},
   "outputs": [],
   "source": [
    "def get_f1(prediction, label_data, C):\n",
    "    from sklearn.metrics import accuracy_score\n",
    "    pos_true = label_data.loc[(prediction == 1) & (label_data == prediction)].size\n",
    "    pos_false = label_data.loc[(prediction == 1) & (label_data != prediction)].size\n",
    "    neg_false = label_data.loc[(prediction == 0) & (label_data != prediction)].size\n",
    "    print(pos_true, pos_false, neg_false)\n",
    "    precision = pos_true / (pos_true + pos_false + 1) * 100\n",
    "    recall = pos_true / (pos_true + neg_false + 1) * 100\n",
    "    f1_score = 2 * (precision * recall) / (precision + recall + 1)\n",
    "    accuracy = accuracy_score(prediction, label_data) * 100\n",
    "    # print(f'precision:{precision}, recall:{recall}, f1:{f1_score}')\n",
    "    # print(f'accuracy:{accuracy}')\n",
    "    return {'C': C, 'accuracy': accuracy, 'recall': recall, 'precision': precision, 'F1-score': f1_score}"
   ]
  },
  {
   "cell_type": "code",
   "execution_count": 16,
   "metadata": {},
   "outputs": [
    {
     "name": "stdout",
     "output_type": "stream",
     "text": [
      "461 2 31\n"
     ]
    },
    {
     "data": {
      "text/plain": [
       "{'C': 1,\n",
       " 'accuracy': 96.64634146341463,\n",
       " 'recall': 93.50912778904666,\n",
       " 'precision': 99.35344827586206,\n",
       " 'F1-score': 95.84577363708827}"
      ]
     },
     "execution_count": 16,
     "metadata": {},
     "output_type": "execute_result"
    }
   ],
   "source": [
    "prediction = SVM.predict(X_train)\n",
    "get_f1(prediction, y_train, 1)"
   ]
  },
  {
   "cell_type": "code",
   "execution_count": 22,
   "metadata": {},
   "outputs": [
    {
     "name": "stdout",
     "output_type": "stream",
     "text": [
      "91 14772 7\n"
     ]
    },
    {
     "data": {
      "text/plain": [
       "{'C': 1,\n",
       " 'accuracy': 94.79649320470389,\n",
       " 'recall': 91.91919191919192,\n",
       " 'precision': 0.6122174381054898,\n",
       " 'F1-score': 1.2033290757871793}"
      ]
     },
     "execution_count": 22,
     "metadata": {},
     "output_type": "execute_result"
    }
   ],
   "source": [
    "prediction = SVM.predict(x_test)\n",
    "get_f1(prediction,y_test,1)"
   ]
  }
 ],
 "metadata": {
  "interpreter": {
   "hash": "67a9d45133f1a9e4e6de0dcd9787e83ef7d08e0d5bdd34045d03563c32d8ac89"
  },
  "kernelspec": {
   "display_name": "Python 3.8.5 64-bit ('py_3.8': conda)",
   "language": "python",
   "name": "python3"
  },
  "language_info": {
   "codemirror_mode": {
    "name": "ipython",
    "version": 3
   },
   "file_extension": ".py",
   "mimetype": "text/x-python",
   "name": "python",
   "nbconvert_exporter": "python",
   "pygments_lexer": "ipython3",
   "version": "3.8.5"
  },
  "orig_nbformat": 4
 },
 "nbformat": 4,
 "nbformat_minor": 2
}
